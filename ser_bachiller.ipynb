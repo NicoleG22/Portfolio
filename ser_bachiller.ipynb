{
 "cells": [
  {
   "cell_type": "code",
   "execution_count": 1,
   "metadata": {
    "metadata": {}
   },
   "outputs": [],
   "source": [
    "import pandas as pd\n",
    "import numpy as np\n",
    "import matplotlib.pyplot as plt\n",
    "import seaborn as sns"
   ]
  },
  {
   "cell_type": "markdown",
   "metadata": {},
   "source": [
    "# Ser Bachiller"
   ]
  },
  {
   "cell_type": "code",
   "execution_count": 2,
   "metadata": {
    "metadata": {}
   },
   "outputs": [
    {
     "name": "stderr",
     "output_type": "stream",
     "text": [
      "C:\\Users\\nicole.gaibor\\AppData\\Local\\Temp\\ipykernel_2904\\2392585257.py:1: DtypeWarning: Columns (2,22,24,25,26,27) have mixed types. Specify dtype option on import or set low_memory=False.\n",
      "  ser_bach = pd.read_csv('../DATOS/base_ser_bachiller.csv',delimiter=';')\n"
     ]
    },
    {
     "data": {
      "text/html": [
       "<div>\n",
       "<style scoped>\n",
       "    .dataframe tbody tr th:only-of-type {\n",
       "        vertical-align: middle;\n",
       "    }\n",
       "\n",
       "    .dataframe tbody tr th {\n",
       "        vertical-align: top;\n",
       "    }\n",
       "\n",
       "    .dataframe thead th {\n",
       "        text-align: right;\n",
       "    }\n",
       "</style>\n",
       "<table border=\"1\" class=\"dataframe\">\n",
       "  <thead>\n",
       "    <tr style=\"text-align: right;\">\n",
       "      <th></th>\n",
       "      <th>codigo</th>\n",
       "      <th>ciclo</th>\n",
       "      <th>amie</th>\n",
       "      <th>nm_regi</th>\n",
       "      <th>es_regeva</th>\n",
       "      <th>id_zona</th>\n",
       "      <th>id_dist</th>\n",
       "      <th>id_circ</th>\n",
       "      <th>id_prov</th>\n",
       "      <th>id_cant</th>\n",
       "      <th>...</th>\n",
       "      <th>imat</th>\n",
       "      <th>ilyl</th>\n",
       "      <th>icn</th>\n",
       "      <th>ies</th>\n",
       "      <th>nl_inev</th>\n",
       "      <th>nl_imat</th>\n",
       "      <th>nl_ilyl</th>\n",
       "      <th>nl_icn</th>\n",
       "      <th>nl_ies</th>\n",
       "      <th>deshonestidad</th>\n",
       "    </tr>\n",
       "  </thead>\n",
       "  <tbody>\n",
       "    <tr>\n",
       "      <th>0</th>\n",
       "      <td>NQP5X0D9ZJ</td>\n",
       "      <td>2018-2019</td>\n",
       "      <td>01B00020</td>\n",
       "      <td>2</td>\n",
       "      <td>2</td>\n",
       "      <td>6</td>\n",
       "      <td>01D02</td>\n",
       "      <td>01D02C12</td>\n",
       "      <td>1</td>\n",
       "      <td>101</td>\n",
       "      <td>...</td>\n",
       "      <td>7,35</td>\n",
       "      <td>7,69</td>\n",
       "      <td>7,46</td>\n",
       "      <td>7,69</td>\n",
       "      <td>1</td>\n",
       "      <td>1</td>\n",
       "      <td>1</td>\n",
       "      <td>1</td>\n",
       "      <td>1</td>\n",
       "      <td>2</td>\n",
       "    </tr>\n",
       "    <tr>\n",
       "      <th>1</th>\n",
       "      <td>G1FZ4Q9CHI</td>\n",
       "      <td>2018-2019</td>\n",
       "      <td>01B00020</td>\n",
       "      <td>2</td>\n",
       "      <td>2</td>\n",
       "      <td>6</td>\n",
       "      <td>01D02</td>\n",
       "      <td>01D02C12</td>\n",
       "      <td>1</td>\n",
       "      <td>101</td>\n",
       "      <td>...</td>\n",
       "      <td>7</td>\n",
       "      <td>8,04</td>\n",
       "      <td>8,38</td>\n",
       "      <td>6,57</td>\n",
       "      <td>1</td>\n",
       "      <td>1</td>\n",
       "      <td>2</td>\n",
       "      <td>2</td>\n",
       "      <td>0</td>\n",
       "      <td>2</td>\n",
       "    </tr>\n",
       "    <tr>\n",
       "      <th>2</th>\n",
       "      <td>0JVAJN4VHY</td>\n",
       "      <td>2018-2019</td>\n",
       "      <td>01B00020</td>\n",
       "      <td>2</td>\n",
       "      <td>2</td>\n",
       "      <td>6</td>\n",
       "      <td>01D02</td>\n",
       "      <td>01D02C12</td>\n",
       "      <td>1</td>\n",
       "      <td>101</td>\n",
       "      <td>...</td>\n",
       "      <td>6,14</td>\n",
       "      <td>6,14</td>\n",
       "      <td>5,71</td>\n",
       "      <td>5,71</td>\n",
       "      <td>0</td>\n",
       "      <td>0</td>\n",
       "      <td>0</td>\n",
       "      <td>0</td>\n",
       "      <td>0</td>\n",
       "      <td>2</td>\n",
       "    </tr>\n",
       "    <tr>\n",
       "      <th>3</th>\n",
       "      <td>XCVRMB62E2</td>\n",
       "      <td>2018-2019</td>\n",
       "      <td>01B00020</td>\n",
       "      <td>2</td>\n",
       "      <td>2</td>\n",
       "      <td>6</td>\n",
       "      <td>01D02</td>\n",
       "      <td>01D02C12</td>\n",
       "      <td>1</td>\n",
       "      <td>101</td>\n",
       "      <td>...</td>\n",
       "      <td>7,92</td>\n",
       "      <td>7,92</td>\n",
       "      <td>8,85</td>\n",
       "      <td>7,46</td>\n",
       "      <td>2</td>\n",
       "      <td>1</td>\n",
       "      <td>1</td>\n",
       "      <td>2</td>\n",
       "      <td>1</td>\n",
       "      <td>2</td>\n",
       "    </tr>\n",
       "    <tr>\n",
       "      <th>4</th>\n",
       "      <td>U26A1490WL</td>\n",
       "      <td>2018-2019</td>\n",
       "      <td>01B00030</td>\n",
       "      <td>2</td>\n",
       "      <td>2</td>\n",
       "      <td>6</td>\n",
       "      <td>01D01</td>\n",
       "      <td>01D01C17</td>\n",
       "      <td>1</td>\n",
       "      <td>101</td>\n",
       "      <td>...</td>\n",
       "      <td>8,15</td>\n",
       "      <td>7,69</td>\n",
       "      <td>7,69</td>\n",
       "      <td>7,92</td>\n",
       "      <td>1</td>\n",
       "      <td>2</td>\n",
       "      <td>1</td>\n",
       "      <td>1</td>\n",
       "      <td>1</td>\n",
       "      <td>2</td>\n",
       "    </tr>\n",
       "    <tr>\n",
       "      <th>...</th>\n",
       "      <td>...</td>\n",
       "      <td>...</td>\n",
       "      <td>...</td>\n",
       "      <td>...</td>\n",
       "      <td>...</td>\n",
       "      <td>...</td>\n",
       "      <td>...</td>\n",
       "      <td>...</td>\n",
       "      <td>...</td>\n",
       "      <td>...</td>\n",
       "      <td>...</td>\n",
       "      <td>...</td>\n",
       "      <td>...</td>\n",
       "      <td>...</td>\n",
       "      <td>...</td>\n",
       "      <td>...</td>\n",
       "      <td>...</td>\n",
       "      <td>...</td>\n",
       "      <td>...</td>\n",
       "      <td>...</td>\n",
       "      <td>...</td>\n",
       "    </tr>\n",
       "    <tr>\n",
       "      <th>514847</th>\n",
       "      <td>1IT32RMBVN</td>\n",
       "      <td>2018-2019</td>\n",
       "      <td>999999</td>\n",
       "      <td>2</td>\n",
       "      <td>2</td>\n",
       "      <td>6</td>\n",
       "      <td>01D02</td>\n",
       "      <td>01D02C07</td>\n",
       "      <td>1</td>\n",
       "      <td>101</td>\n",
       "      <td>...</td>\n",
       "      <td>999999</td>\n",
       "      <td>999999</td>\n",
       "      <td>999999</td>\n",
       "      <td>999999</td>\n",
       "      <td>999999</td>\n",
       "      <td>999999</td>\n",
       "      <td>999999</td>\n",
       "      <td>999999</td>\n",
       "      <td>999999</td>\n",
       "      <td>2</td>\n",
       "    </tr>\n",
       "    <tr>\n",
       "      <th>514848</th>\n",
       "      <td>JB5C926964</td>\n",
       "      <td>2018-2019</td>\n",
       "      <td>999999</td>\n",
       "      <td>2</td>\n",
       "      <td>1</td>\n",
       "      <td>6</td>\n",
       "      <td>01D08</td>\n",
       "      <td>01D08C01</td>\n",
       "      <td>1</td>\n",
       "      <td>109</td>\n",
       "      <td>...</td>\n",
       "      <td>999999</td>\n",
       "      <td>999999</td>\n",
       "      <td>999999</td>\n",
       "      <td>999999</td>\n",
       "      <td>999999</td>\n",
       "      <td>999999</td>\n",
       "      <td>999999</td>\n",
       "      <td>999999</td>\n",
       "      <td>999999</td>\n",
       "      <td>2</td>\n",
       "    </tr>\n",
       "    <tr>\n",
       "      <th>514849</th>\n",
       "      <td>SL9WE26964</td>\n",
       "      <td>2018-2019</td>\n",
       "      <td>999999</td>\n",
       "      <td>2</td>\n",
       "      <td>1</td>\n",
       "      <td>9</td>\n",
       "      <td>17D06</td>\n",
       "      <td>17D06C08</td>\n",
       "      <td>17</td>\n",
       "      <td>1701</td>\n",
       "      <td>...</td>\n",
       "      <td>999999</td>\n",
       "      <td>999999</td>\n",
       "      <td>999999</td>\n",
       "      <td>999999</td>\n",
       "      <td>999999</td>\n",
       "      <td>999999</td>\n",
       "      <td>999999</td>\n",
       "      <td>999999</td>\n",
       "      <td>999999</td>\n",
       "      <td>2</td>\n",
       "    </tr>\n",
       "    <tr>\n",
       "      <th>514850</th>\n",
       "      <td>ECT50N1P5W</td>\n",
       "      <td>2018-2019</td>\n",
       "      <td>999999</td>\n",
       "      <td>2</td>\n",
       "      <td>2</td>\n",
       "      <td>9</td>\n",
       "      <td>17D06</td>\n",
       "      <td>17D06C08</td>\n",
       "      <td>17</td>\n",
       "      <td>1701</td>\n",
       "      <td>...</td>\n",
       "      <td>999999</td>\n",
       "      <td>999999</td>\n",
       "      <td>999999</td>\n",
       "      <td>999999</td>\n",
       "      <td>999999</td>\n",
       "      <td>999999</td>\n",
       "      <td>999999</td>\n",
       "      <td>999999</td>\n",
       "      <td>999999</td>\n",
       "      <td>2</td>\n",
       "    </tr>\n",
       "    <tr>\n",
       "      <th>514851</th>\n",
       "      <td>YFIXL29420</td>\n",
       "      <td>2018-2019</td>\n",
       "      <td>999999</td>\n",
       "      <td>1</td>\n",
       "      <td>1</td>\n",
       "      <td>8</td>\n",
       "      <td>09D05</td>\n",
       "      <td>09D05C01</td>\n",
       "      <td>9</td>\n",
       "      <td>901</td>\n",
       "      <td>...</td>\n",
       "      <td>999999</td>\n",
       "      <td>999999</td>\n",
       "      <td>999999</td>\n",
       "      <td>999999</td>\n",
       "      <td>999999</td>\n",
       "      <td>999999</td>\n",
       "      <td>999999</td>\n",
       "      <td>999999</td>\n",
       "      <td>999999</td>\n",
       "      <td>999999</td>\n",
       "    </tr>\n",
       "  </tbody>\n",
       "</table>\n",
       "<p>514852 rows × 34 columns</p>\n",
       "</div>"
      ],
      "text/plain": [
       "            codigo      ciclo      amie  nm_regi  es_regeva  id_zona id_dist  \\\n",
       "0       NQP5X0D9ZJ  2018-2019  01B00020        2          2        6   01D02   \n",
       "1       G1FZ4Q9CHI  2018-2019  01B00020        2          2        6   01D02   \n",
       "2       0JVAJN4VHY  2018-2019  01B00020        2          2        6   01D02   \n",
       "3       XCVRMB62E2  2018-2019  01B00020        2          2        6   01D02   \n",
       "4       U26A1490WL  2018-2019  01B00030        2          2        6   01D01   \n",
       "...            ...        ...       ...      ...        ...      ...     ...   \n",
       "514847  1IT32RMBVN  2018-2019    999999        2          2        6   01D02   \n",
       "514848  JB5C926964  2018-2019    999999        2          1        6   01D08   \n",
       "514849  SL9WE26964  2018-2019    999999        2          1        9   17D06   \n",
       "514850  ECT50N1P5W  2018-2019    999999        2          2        9   17D06   \n",
       "514851  YFIXL29420  2018-2019    999999        1          1        8   09D05   \n",
       "\n",
       "         id_circ  id_prov  id_cant  ...    imat    ilyl     icn     ies  \\\n",
       "0       01D02C12        1      101  ...    7,35    7,69    7,46    7,69   \n",
       "1       01D02C12        1      101  ...       7    8,04    8,38    6,57   \n",
       "2       01D02C12        1      101  ...    6,14    6,14    5,71    5,71   \n",
       "3       01D02C12        1      101  ...    7,92    7,92    8,85    7,46   \n",
       "4       01D01C17        1      101  ...    8,15    7,69    7,69    7,92   \n",
       "...          ...      ...      ...  ...     ...     ...     ...     ...   \n",
       "514847  01D02C07        1      101  ...  999999  999999  999999  999999   \n",
       "514848  01D08C01        1      109  ...  999999  999999  999999  999999   \n",
       "514849  17D06C08       17     1701  ...  999999  999999  999999  999999   \n",
       "514850  17D06C08       17     1701  ...  999999  999999  999999  999999   \n",
       "514851  09D05C01        9      901  ...  999999  999999  999999  999999   \n",
       "\n",
       "        nl_inev  nl_imat  nl_ilyl  nl_icn  nl_ies  deshonestidad  \n",
       "0             1        1        1       1       1              2  \n",
       "1             1        1        2       2       0              2  \n",
       "2             0        0        0       0       0              2  \n",
       "3             2        1        1       2       1              2  \n",
       "4             1        2        1       1       1              2  \n",
       "...         ...      ...      ...     ...     ...            ...  \n",
       "514847   999999   999999   999999  999999  999999              2  \n",
       "514848   999999   999999   999999  999999  999999              2  \n",
       "514849   999999   999999   999999  999999  999999              2  \n",
       "514850   999999   999999   999999  999999  999999              2  \n",
       "514851   999999   999999   999999  999999  999999         999999  \n",
       "\n",
       "[514852 rows x 34 columns]"
      ]
     },
     "execution_count": 2,
     "metadata": {},
     "output_type": "execute_result"
    }
   ],
   "source": [
    "ser_bach = pd.read_csv('../DATOS/base_ser_bachiller.csv',delimiter=';')\n",
    "ser_bach"
   ]
  },
  {
   "cell_type": "code",
   "execution_count": 3,
   "metadata": {},
   "outputs": [
    {
     "name": "stdout",
     "output_type": "stream",
     "text": [
      "514852\n"
     ]
    }
   ],
   "source": [
    "## Numero de estudiantes en la base\n",
    "n_bach = ser_bach.drop_duplicates(['codigo'])\n",
    "print(len(n_bach))"
   ]
  },
  {
   "cell_type": "markdown",
   "metadata": {},
   "source": [
    "## Limpieza de la base de datos"
   ]
  },
  {
   "cell_type": "code",
   "execution_count": 4,
   "metadata": {},
   "outputs": [
    {
     "data": {
      "text/html": [
       "<div>\n",
       "<style scoped>\n",
       "    .dataframe tbody tr th:only-of-type {\n",
       "        vertical-align: middle;\n",
       "    }\n",
       "\n",
       "    .dataframe tbody tr th {\n",
       "        vertical-align: top;\n",
       "    }\n",
       "\n",
       "    .dataframe thead th {\n",
       "        text-align: right;\n",
       "    }\n",
       "</style>\n",
       "<table border=\"1\" class=\"dataframe\">\n",
       "  <thead>\n",
       "    <tr style=\"text-align: right;\">\n",
       "      <th></th>\n",
       "      <th>codigo</th>\n",
       "      <th>amie</th>\n",
       "      <th>nm_regi</th>\n",
       "      <th>financiamiento</th>\n",
       "      <th>tp_sost</th>\n",
       "      <th>tp_sexo</th>\n",
       "      <th>tp_area</th>\n",
       "      <th>quintil</th>\n",
       "      <th>poblacion</th>\n",
       "      <th>isec</th>\n",
       "      <th>pes</th>\n",
       "      <th>deshonestidad</th>\n",
       "    </tr>\n",
       "  </thead>\n",
       "  <tbody>\n",
       "    <tr>\n",
       "      <th>0</th>\n",
       "      <td>NQP5X0D9ZJ</td>\n",
       "      <td>01B00020</td>\n",
       "      <td>2</td>\n",
       "      <td>1</td>\n",
       "      <td>4</td>\n",
       "      <td>1</td>\n",
       "      <td>1</td>\n",
       "      <td>4</td>\n",
       "      <td>1</td>\n",
       "      <td>,86847</td>\n",
       "      <td>610</td>\n",
       "      <td>2</td>\n",
       "    </tr>\n",
       "    <tr>\n",
       "      <th>1</th>\n",
       "      <td>G1FZ4Q9CHI</td>\n",
       "      <td>01B00020</td>\n",
       "      <td>2</td>\n",
       "      <td>1</td>\n",
       "      <td>4</td>\n",
       "      <td>1</td>\n",
       "      <td>1</td>\n",
       "      <td>1</td>\n",
       "      <td>1</td>\n",
       "      <td>-1,14563</td>\n",
       "      <td>640</td>\n",
       "      <td>2</td>\n",
       "    </tr>\n",
       "    <tr>\n",
       "      <th>2</th>\n",
       "      <td>0JVAJN4VHY</td>\n",
       "      <td>01B00020</td>\n",
       "      <td>2</td>\n",
       "      <td>1</td>\n",
       "      <td>4</td>\n",
       "      <td>1</td>\n",
       "      <td>1</td>\n",
       "      <td>3</td>\n",
       "      <td>1</td>\n",
       "      <td>,21734</td>\n",
       "      <td>535</td>\n",
       "      <td>2</td>\n",
       "    </tr>\n",
       "    <tr>\n",
       "      <th>3</th>\n",
       "      <td>XCVRMB62E2</td>\n",
       "      <td>01B00020</td>\n",
       "      <td>2</td>\n",
       "      <td>1</td>\n",
       "      <td>4</td>\n",
       "      <td>1</td>\n",
       "      <td>1</td>\n",
       "      <td>1</td>\n",
       "      <td>1</td>\n",
       "      <td>-1,35133</td>\n",
       "      <td>706</td>\n",
       "      <td>2</td>\n",
       "    </tr>\n",
       "    <tr>\n",
       "      <th>4</th>\n",
       "      <td>U26A1490WL</td>\n",
       "      <td>01B00030</td>\n",
       "      <td>2</td>\n",
       "      <td>2</td>\n",
       "      <td>1</td>\n",
       "      <td>2</td>\n",
       "      <td>1</td>\n",
       "      <td>5</td>\n",
       "      <td>1</td>\n",
       "      <td>1,60637</td>\n",
       "      <td>706</td>\n",
       "      <td>2</td>\n",
       "    </tr>\n",
       "    <tr>\n",
       "      <th>...</th>\n",
       "      <td>...</td>\n",
       "      <td>...</td>\n",
       "      <td>...</td>\n",
       "      <td>...</td>\n",
       "      <td>...</td>\n",
       "      <td>...</td>\n",
       "      <td>...</td>\n",
       "      <td>...</td>\n",
       "      <td>...</td>\n",
       "      <td>...</td>\n",
       "      <td>...</td>\n",
       "      <td>...</td>\n",
       "    </tr>\n",
       "    <tr>\n",
       "      <th>514847</th>\n",
       "      <td>1IT32RMBVN</td>\n",
       "      <td>999999</td>\n",
       "      <td>2</td>\n",
       "      <td>999999</td>\n",
       "      <td>999999</td>\n",
       "      <td>2</td>\n",
       "      <td>2</td>\n",
       "      <td>1</td>\n",
       "      <td>2</td>\n",
       "      <td>-1,40191</td>\n",
       "      <td>610</td>\n",
       "      <td>2</td>\n",
       "    </tr>\n",
       "    <tr>\n",
       "      <th>514848</th>\n",
       "      <td>JB5C926964</td>\n",
       "      <td>999999</td>\n",
       "      <td>2</td>\n",
       "      <td>999999</td>\n",
       "      <td>999999</td>\n",
       "      <td>2</td>\n",
       "      <td>1</td>\n",
       "      <td>4</td>\n",
       "      <td>2</td>\n",
       "      <td>,344882171</td>\n",
       "      <td>661</td>\n",
       "      <td>2</td>\n",
       "    </tr>\n",
       "    <tr>\n",
       "      <th>514849</th>\n",
       "      <td>SL9WE26964</td>\n",
       "      <td>999999</td>\n",
       "      <td>2</td>\n",
       "      <td>999999</td>\n",
       "      <td>999999</td>\n",
       "      <td>2</td>\n",
       "      <td>2</td>\n",
       "      <td>5</td>\n",
       "      <td>2</td>\n",
       "      <td>1,202086126</td>\n",
       "      <td>946</td>\n",
       "      <td>2</td>\n",
       "    </tr>\n",
       "    <tr>\n",
       "      <th>514850</th>\n",
       "      <td>ECT50N1P5W</td>\n",
       "      <td>999999</td>\n",
       "      <td>2</td>\n",
       "      <td>999999</td>\n",
       "      <td>999999</td>\n",
       "      <td>1</td>\n",
       "      <td>2</td>\n",
       "      <td>5</td>\n",
       "      <td>2</td>\n",
       "      <td>1,08524</td>\n",
       "      <td>973</td>\n",
       "      <td>2</td>\n",
       "    </tr>\n",
       "    <tr>\n",
       "      <th>514851</th>\n",
       "      <td>YFIXL29420</td>\n",
       "      <td>999999</td>\n",
       "      <td>1</td>\n",
       "      <td>999999</td>\n",
       "      <td>999999</td>\n",
       "      <td>2</td>\n",
       "      <td>2</td>\n",
       "      <td>999999</td>\n",
       "      <td>2</td>\n",
       "      <td>999999</td>\n",
       "      <td>999999</td>\n",
       "      <td>999999</td>\n",
       "    </tr>\n",
       "  </tbody>\n",
       "</table>\n",
       "<p>514852 rows × 12 columns</p>\n",
       "</div>"
      ],
      "text/plain": [
       "            codigo      amie  nm_regi  financiamiento  tp_sost  tp_sexo  \\\n",
       "0       NQP5X0D9ZJ  01B00020        2               1        4        1   \n",
       "1       G1FZ4Q9CHI  01B00020        2               1        4        1   \n",
       "2       0JVAJN4VHY  01B00020        2               1        4        1   \n",
       "3       XCVRMB62E2  01B00020        2               1        4        1   \n",
       "4       U26A1490WL  01B00030        2               2        1        2   \n",
       "...            ...       ...      ...             ...      ...      ...   \n",
       "514847  1IT32RMBVN    999999        2          999999   999999        2   \n",
       "514848  JB5C926964    999999        2          999999   999999        2   \n",
       "514849  SL9WE26964    999999        2          999999   999999        2   \n",
       "514850  ECT50N1P5W    999999        2          999999   999999        1   \n",
       "514851  YFIXL29420    999999        1          999999   999999        2   \n",
       "\n",
       "        tp_area  quintil  poblacion         isec     pes  deshonestidad  \n",
       "0             1        4          1       ,86847     610              2  \n",
       "1             1        1          1     -1,14563     640              2  \n",
       "2             1        3          1       ,21734     535              2  \n",
       "3             1        1          1     -1,35133     706              2  \n",
       "4             1        5          1      1,60637     706              2  \n",
       "...         ...      ...        ...          ...     ...            ...  \n",
       "514847        2        1          2     -1,40191     610              2  \n",
       "514848        1        4          2   ,344882171     661              2  \n",
       "514849        2        5          2  1,202086126     946              2  \n",
       "514850        2        5          2      1,08524     973              2  \n",
       "514851        2   999999          2       999999  999999         999999  \n",
       "\n",
       "[514852 rows x 12 columns]"
      ]
     },
     "execution_count": 4,
     "metadata": {},
     "output_type": "execute_result"
    }
   ],
   "source": [
    "#Nos quedamos con las variables que se van a utilizar a priori\n",
    "df_bach = ser_bach[['codigo','amie','nm_regi','financiamiento','tp_sost','tp_sexo','tp_area','quintil','poblacion','isec','pes','deshonestidad']]\n",
    "df_bach"
   ]
  },
  {
   "cell_type": "code",
   "execution_count": 5,
   "metadata": {},
   "outputs": [
    {
     "data": {
      "text/plain": [
       "codigo            object\n",
       "amie              object\n",
       "nm_regi            int64\n",
       "financiamiento     int64\n",
       "tp_sost            int64\n",
       "tp_sexo            int64\n",
       "tp_area            int64\n",
       "quintil            int64\n",
       "poblacion          int64\n",
       "isec              object\n",
       "pes                int64\n",
       "deshonestidad      int64\n",
       "dtype: object"
      ]
     },
     "execution_count": 5,
     "metadata": {},
     "output_type": "execute_result"
    }
   ],
   "source": [
    "#Identificando el tipo de dato alojado en cada columna (variable) del dataframe\n",
    "df_bach.dtypes"
   ]
  },
  {
   "cell_type": "code",
   "execution_count": 6,
   "metadata": {},
   "outputs": [
    {
     "name": "stderr",
     "output_type": "stream",
     "text": [
      "C:\\Users\\nicole.gaibor\\AppData\\Local\\Temp\\ipykernel_2904\\454476179.py:5: SettingWithCopyWarning: \n",
      "A value is trying to be set on a copy of a slice from a DataFrame.\n",
      "Try using .loc[row_indexer,col_indexer] = value instead\n",
      "\n",
      "See the caveats in the documentation: https://pandas.pydata.org/pandas-docs/stable/user_guide/indexing.html#returning-a-view-versus-a-copy\n",
      "  df_bach[col] = df_bach[col].astype('category')\n"
     ]
    },
    {
     "data": {
      "text/plain": [
       "codigo              object\n",
       "amie                object\n",
       "nm_regi           category\n",
       "financiamiento    category\n",
       "tp_sost           category\n",
       "tp_sexo           category\n",
       "tp_area           category\n",
       "quintil           category\n",
       "poblacion         category\n",
       "isec                object\n",
       "pes                  int64\n",
       "deshonestidad        int64\n",
       "dtype: object"
      ]
     },
     "execution_count": 6,
     "metadata": {},
     "output_type": "execute_result"
    }
   ],
   "source": [
    "#Se procede a transformar las variables financiamiento, tp_sost, tp_sexo, tp_area, quintil y población al formato de categoricas\n",
    "categoricas = ['financiamiento','tp_sost','tp_sexo','tp_area','quintil','poblacion','nm_regi']\n",
    "\n",
    "for col in categoricas:\n",
    "    df_bach[col] = df_bach[col].astype('category')\n",
    "\n",
    "df_bach.dtypes"
   ]
  },
  {
   "cell_type": "code",
   "execution_count": 7,
   "metadata": {},
   "outputs": [
    {
     "data": {
      "text/plain": [
       "0              ,86847\n",
       "1            -1,14563\n",
       "2              ,21734\n",
       "3            -1,35133\n",
       "4             1,60637\n",
       "             ...     \n",
       "514847       -1,40191\n",
       "514848     ,344882171\n",
       "514849    1,202086126\n",
       "514850        1,08524\n",
       "514851         999999\n",
       "Name: isec, Length: 514852, dtype: object"
      ]
     },
     "execution_count": 7,
     "metadata": {},
     "output_type": "execute_result"
    }
   ],
   "source": [
    "#La variable isec es el nivel socioeconómico del sustentante, por lo cual se verifica que tipo de datos existen\n",
    "df_bach.isec"
   ]
  },
  {
   "cell_type": "code",
   "execution_count": 8,
   "metadata": {},
   "outputs": [
    {
     "name": "stdout",
     "output_type": "stream",
     "text": [
      "0              0.868470\n",
      "1             -1.145630\n",
      "2              0.217340\n",
      "3             -1.351330\n",
      "4              1.606370\n",
      "              ...      \n",
      "514847        -1.401910\n",
      "514848         0.344882\n",
      "514849         1.202086\n",
      "514850         1.085240\n",
      "514851    999999.000000\n",
      "Name: isec, Length: 514852, dtype: float64\n"
     ]
    },
    {
     "name": "stderr",
     "output_type": "stream",
     "text": [
      "C:\\Users\\nicole.gaibor\\AppData\\Local\\Temp\\ipykernel_2904\\3250121993.py:15: SettingWithCopyWarning: \n",
      "A value is trying to be set on a copy of a slice from a DataFrame.\n",
      "Try using .loc[row_indexer,col_indexer] = value instead\n",
      "\n",
      "See the caveats in the documentation: https://pandas.pydata.org/pandas-docs/stable/user_guide/indexing.html#returning-a-view-versus-a-copy\n",
      "  df_bach['isec'] = df_bach['isec'].apply(limpiar_y_convertir)\n"
     ]
    }
   ],
   "source": [
    "#La variable isec, al ser cargada como objeto, existen datos como ',87659' que en realidad representa '0.87659', por lo cual se procede a transformar para que no genere inconvenientes\n",
    "#al momento de realizar otros análisis\n",
    "\n",
    "def limpiar_y_convertir(valor):\n",
    "    if pd.isna(valor):\n",
    "        return None\n",
    "    valor = str(valor)\n",
    "    if valor.startswith(','):\n",
    "        valor = '0.' + valor[1:]\n",
    "    else:\n",
    "        valor = valor.replace(',', '.')\n",
    "    return pd.to_numeric(valor, errors='coerce')\n",
    "\n",
    "# Aplicar la función a la columna\n",
    "df_bach['isec'] = df_bach['isec'].apply(limpiar_y_convertir)\n",
    "\n",
    "# Asegurarse de que no hay valores nulos en 'isec' después de la conversión\n",
    "df_escolares = df_bach.dropna(subset=['isec'])\n",
    "\n",
    "print(df_escolares.isec)"
   ]
  },
  {
   "cell_type": "code",
   "execution_count": 9,
   "metadata": {},
   "outputs": [
    {
     "data": {
      "text/plain": [
       "codigo              object\n",
       "amie                object\n",
       "nm_regi           category\n",
       "financiamiento    category\n",
       "tp_sost           category\n",
       "tp_sexo           category\n",
       "tp_area           category\n",
       "quintil           category\n",
       "poblacion         category\n",
       "isec               float64\n",
       "pes                  int64\n",
       "deshonestidad        int64\n",
       "dtype: object"
      ]
     },
     "execution_count": 9,
     "metadata": {},
     "output_type": "execute_result"
    }
   ],
   "source": [
    "#Visualizando los tipos de datos actualizados en el dataframe\n",
    "df_bach.dtypes"
   ]
  },
  {
   "cell_type": "code",
   "execution_count": 10,
   "metadata": {},
   "outputs": [
    {
     "data": {
      "text/html": [
       "<div>\n",
       "<style scoped>\n",
       "    .dataframe tbody tr th:only-of-type {\n",
       "        vertical-align: middle;\n",
       "    }\n",
       "\n",
       "    .dataframe tbody tr th {\n",
       "        vertical-align: top;\n",
       "    }\n",
       "\n",
       "    .dataframe thead th {\n",
       "        text-align: right;\n",
       "    }\n",
       "</style>\n",
       "<table border=\"1\" class=\"dataframe\">\n",
       "  <thead>\n",
       "    <tr style=\"text-align: right;\">\n",
       "      <th></th>\n",
       "      <th>codigo</th>\n",
       "      <th>amie</th>\n",
       "      <th>nm_regi</th>\n",
       "      <th>financiamiento</th>\n",
       "      <th>tp_sost</th>\n",
       "      <th>tp_sexo</th>\n",
       "      <th>tp_area</th>\n",
       "      <th>quintil</th>\n",
       "      <th>poblacion</th>\n",
       "      <th>isec</th>\n",
       "      <th>pes</th>\n",
       "      <th>deshonestidad</th>\n",
       "    </tr>\n",
       "  </thead>\n",
       "  <tbody>\n",
       "    <tr>\n",
       "      <th>0</th>\n",
       "      <td>NQP5X0D9ZJ</td>\n",
       "      <td>01B00020</td>\n",
       "      <td>2</td>\n",
       "      <td>1</td>\n",
       "      <td>4</td>\n",
       "      <td>1</td>\n",
       "      <td>1</td>\n",
       "      <td>4</td>\n",
       "      <td>1</td>\n",
       "      <td>0.868470</td>\n",
       "      <td>610</td>\n",
       "      <td>2</td>\n",
       "    </tr>\n",
       "    <tr>\n",
       "      <th>1</th>\n",
       "      <td>G1FZ4Q9CHI</td>\n",
       "      <td>01B00020</td>\n",
       "      <td>2</td>\n",
       "      <td>1</td>\n",
       "      <td>4</td>\n",
       "      <td>1</td>\n",
       "      <td>1</td>\n",
       "      <td>1</td>\n",
       "      <td>1</td>\n",
       "      <td>-1.145630</td>\n",
       "      <td>640</td>\n",
       "      <td>2</td>\n",
       "    </tr>\n",
       "    <tr>\n",
       "      <th>2</th>\n",
       "      <td>0JVAJN4VHY</td>\n",
       "      <td>01B00020</td>\n",
       "      <td>2</td>\n",
       "      <td>1</td>\n",
       "      <td>4</td>\n",
       "      <td>1</td>\n",
       "      <td>1</td>\n",
       "      <td>3</td>\n",
       "      <td>1</td>\n",
       "      <td>0.217340</td>\n",
       "      <td>535</td>\n",
       "      <td>2</td>\n",
       "    </tr>\n",
       "    <tr>\n",
       "      <th>3</th>\n",
       "      <td>XCVRMB62E2</td>\n",
       "      <td>01B00020</td>\n",
       "      <td>2</td>\n",
       "      <td>1</td>\n",
       "      <td>4</td>\n",
       "      <td>1</td>\n",
       "      <td>1</td>\n",
       "      <td>1</td>\n",
       "      <td>1</td>\n",
       "      <td>-1.351330</td>\n",
       "      <td>706</td>\n",
       "      <td>2</td>\n",
       "    </tr>\n",
       "    <tr>\n",
       "      <th>4</th>\n",
       "      <td>U26A1490WL</td>\n",
       "      <td>01B00030</td>\n",
       "      <td>2</td>\n",
       "      <td>2</td>\n",
       "      <td>1</td>\n",
       "      <td>2</td>\n",
       "      <td>1</td>\n",
       "      <td>5</td>\n",
       "      <td>1</td>\n",
       "      <td>1.606370</td>\n",
       "      <td>706</td>\n",
       "      <td>2</td>\n",
       "    </tr>\n",
       "    <tr>\n",
       "      <th>...</th>\n",
       "      <td>...</td>\n",
       "      <td>...</td>\n",
       "      <td>...</td>\n",
       "      <td>...</td>\n",
       "      <td>...</td>\n",
       "      <td>...</td>\n",
       "      <td>...</td>\n",
       "      <td>...</td>\n",
       "      <td>...</td>\n",
       "      <td>...</td>\n",
       "      <td>...</td>\n",
       "      <td>...</td>\n",
       "    </tr>\n",
       "    <tr>\n",
       "      <th>302684</th>\n",
       "      <td>93JQW16738</td>\n",
       "      <td>24H00414</td>\n",
       "      <td>1</td>\n",
       "      <td>3</td>\n",
       "      <td>3</td>\n",
       "      <td>1</td>\n",
       "      <td>2</td>\n",
       "      <td>3</td>\n",
       "      <td>1</td>\n",
       "      <td>0.142528</td>\n",
       "      <td>526</td>\n",
       "      <td>2</td>\n",
       "    </tr>\n",
       "    <tr>\n",
       "      <th>302685</th>\n",
       "      <td>KR4AA18822</td>\n",
       "      <td>24H00414</td>\n",
       "      <td>1</td>\n",
       "      <td>3</td>\n",
       "      <td>3</td>\n",
       "      <td>1</td>\n",
       "      <td>2</td>\n",
       "      <td>2</td>\n",
       "      <td>1</td>\n",
       "      <td>-0.446444</td>\n",
       "      <td>562</td>\n",
       "      <td>2</td>\n",
       "    </tr>\n",
       "    <tr>\n",
       "      <th>302686</th>\n",
       "      <td>NH82D23826</td>\n",
       "      <td>24H00414</td>\n",
       "      <td>1</td>\n",
       "      <td>3</td>\n",
       "      <td>3</td>\n",
       "      <td>1</td>\n",
       "      <td>2</td>\n",
       "      <td>1</td>\n",
       "      <td>1</td>\n",
       "      <td>-1.109267</td>\n",
       "      <td>592</td>\n",
       "      <td>2</td>\n",
       "    </tr>\n",
       "    <tr>\n",
       "      <th>302687</th>\n",
       "      <td>ALWJF25514</td>\n",
       "      <td>24H00414</td>\n",
       "      <td>1</td>\n",
       "      <td>3</td>\n",
       "      <td>3</td>\n",
       "      <td>1</td>\n",
       "      <td>2</td>\n",
       "      <td>1</td>\n",
       "      <td>1</td>\n",
       "      <td>-1.339608</td>\n",
       "      <td>604</td>\n",
       "      <td>2</td>\n",
       "    </tr>\n",
       "    <tr>\n",
       "      <th>302688</th>\n",
       "      <td>7CJWB26404</td>\n",
       "      <td>24H00414</td>\n",
       "      <td>1</td>\n",
       "      <td>3</td>\n",
       "      <td>3</td>\n",
       "      <td>1</td>\n",
       "      <td>2</td>\n",
       "      <td>3</td>\n",
       "      <td>1</td>\n",
       "      <td>0.213561</td>\n",
       "      <td>607</td>\n",
       "      <td>2</td>\n",
       "    </tr>\n",
       "  </tbody>\n",
       "</table>\n",
       "<p>297497 rows × 12 columns</p>\n",
       "</div>"
      ],
      "text/plain": [
       "            codigo      amie nm_regi financiamiento tp_sost tp_sexo tp_area  \\\n",
       "0       NQP5X0D9ZJ  01B00020       2              1       4       1       1   \n",
       "1       G1FZ4Q9CHI  01B00020       2              1       4       1       1   \n",
       "2       0JVAJN4VHY  01B00020       2              1       4       1       1   \n",
       "3       XCVRMB62E2  01B00020       2              1       4       1       1   \n",
       "4       U26A1490WL  01B00030       2              2       1       2       1   \n",
       "...            ...       ...     ...            ...     ...     ...     ...   \n",
       "302684  93JQW16738  24H00414       1              3       3       1       2   \n",
       "302685  KR4AA18822  24H00414       1              3       3       1       2   \n",
       "302686  NH82D23826  24H00414       1              3       3       1       2   \n",
       "302687  ALWJF25514  24H00414       1              3       3       1       2   \n",
       "302688  7CJWB26404  24H00414       1              3       3       1       2   \n",
       "\n",
       "       quintil poblacion      isec  pes  deshonestidad  \n",
       "0            4         1  0.868470  610              2  \n",
       "1            1         1 -1.145630  640              2  \n",
       "2            3         1  0.217340  535              2  \n",
       "3            1         1 -1.351330  706              2  \n",
       "4            5         1  1.606370  706              2  \n",
       "...        ...       ...       ...  ...            ...  \n",
       "302684       3         1  0.142528  526              2  \n",
       "302685       2         1 -0.446444  562              2  \n",
       "302686       1         1 -1.109267  592              2  \n",
       "302687       1         1 -1.339608  604              2  \n",
       "302688       3         1  0.213561  607              2  \n",
       "\n",
       "[297497 rows x 12 columns]"
      ]
     },
     "execution_count": 10,
     "metadata": {},
     "output_type": "execute_result"
    }
   ],
   "source": [
    "#Filtracion de informacion para quedarnos con los datos que necesitamos, lo cual implica:\n",
    "#Sustentante escolar (pertenece a una institución educativa),  Indice socioeconómico distinto de 999999 y \n",
    "#Nota de postulación distinto de 999999\n",
    "\n",
    "df_escolares = df_bach[((df_bach['poblacion']==1)\n",
    "                        &(df_bach['isec']!=999999)\n",
    "                        &(df_bach['pes']!=999999))]\n",
    "df_escolares"
   ]
  },
  {
   "cell_type": "code",
   "execution_count": 11,
   "metadata": {},
   "outputs": [
    {
     "name": "stderr",
     "output_type": "stream",
     "text": [
      "C:\\Users\\nicole.gaibor\\AppData\\Local\\Temp\\ipykernel_2904\\2017874808.py:8: SettingWithCopyWarning: \n",
      "A value is trying to be set on a copy of a slice from a DataFrame.\n",
      "Try using .loc[row_indexer,col_indexer] = value instead\n",
      "\n",
      "See the caveats in the documentation: https://pandas.pydata.org/pandas-docs/stable/user_guide/indexing.html#returning-a-view-versus-a-copy\n",
      "  df_escolares['region'] = df_escolares['nm_regi'].map(mapeo_regiones)\n",
      "C:\\Users\\nicole.gaibor\\AppData\\Local\\Temp\\ipykernel_2904\\2017874808.py:9: SettingWithCopyWarning: \n",
      "A value is trying to be set on a copy of a slice from a DataFrame.\n",
      "Try using .loc[row_indexer,col_indexer] = value instead\n",
      "\n",
      "See the caveats in the documentation: https://pandas.pydata.org/pandas-docs/stable/user_guide/indexing.html#returning-a-view-versus-a-copy\n",
      "  df_escolares['tipo_finan'] = df_escolares['financiamiento'].map(mapeo_finan)\n",
      "C:\\Users\\nicole.gaibor\\AppData\\Local\\Temp\\ipykernel_2904\\2017874808.py:10: SettingWithCopyWarning: \n",
      "A value is trying to be set on a copy of a slice from a DataFrame.\n",
      "Try using .loc[row_indexer,col_indexer] = value instead\n",
      "\n",
      "See the caveats in the documentation: https://pandas.pydata.org/pandas-docs/stable/user_guide/indexing.html#returning-a-view-versus-a-copy\n",
      "  df_escolares['tipo_sexo'] = df_escolares['tp_sexo'].map(mapeo_sexo)\n",
      "C:\\Users\\nicole.gaibor\\AppData\\Local\\Temp\\ipykernel_2904\\2017874808.py:11: SettingWithCopyWarning: \n",
      "A value is trying to be set on a copy of a slice from a DataFrame.\n",
      "Try using .loc[row_indexer,col_indexer] = value instead\n",
      "\n",
      "See the caveats in the documentation: https://pandas.pydata.org/pandas-docs/stable/user_guide/indexing.html#returning-a-view-versus-a-copy\n",
      "  df_escolares['tipo_area'] = df_escolares['tp_area'].map(mapeo_area)\n"
     ]
    }
   ],
   "source": [
    "# Etiquetado de variables categóricas\n",
    "mapeo_regiones = {1: 'Costa', 2: 'Sierra', 3: 'Oriente', 4:'Insular', 90:'Zona no delimitada', 98:'Exterior'}\n",
    "mapeo_finan = {1: 'Público', 2: 'Privado', 3: 'Mixto'}\n",
    "mapeo_sexo = {1: 'Hombre', 2: 'Mujer'}\n",
    "mapeo_area = {1: 'Rural', 2: 'Urbano', 98:'Exterior'}\n",
    "\n",
    "# Asignar las etiquetas utilizando el método map\n",
    "df_escolares['region'] = df_escolares['nm_regi'].map(mapeo_regiones)\n",
    "df_escolares['tipo_finan'] = df_escolares['financiamiento'].map(mapeo_finan)\n",
    "df_escolares['tipo_sexo'] = df_escolares['tp_sexo'].map(mapeo_sexo)\n",
    "df_escolares['tipo_area'] = df_escolares['tp_area'].map(mapeo_area)"
   ]
  },
  {
   "cell_type": "code",
   "execution_count": 12,
   "metadata": {},
   "outputs": [
    {
     "data": {
      "text/html": [
       "<div>\n",
       "<style scoped>\n",
       "    .dataframe tbody tr th:only-of-type {\n",
       "        vertical-align: middle;\n",
       "    }\n",
       "\n",
       "    .dataframe tbody tr th {\n",
       "        vertical-align: top;\n",
       "    }\n",
       "\n",
       "    .dataframe thead th {\n",
       "        text-align: right;\n",
       "    }\n",
       "</style>\n",
       "<table border=\"1\" class=\"dataframe\">\n",
       "  <thead>\n",
       "    <tr style=\"text-align: right;\">\n",
       "      <th></th>\n",
       "      <th>codigo</th>\n",
       "      <th>amie</th>\n",
       "      <th>nm_regi</th>\n",
       "      <th>financiamiento</th>\n",
       "      <th>tp_sost</th>\n",
       "      <th>tp_sexo</th>\n",
       "      <th>tp_area</th>\n",
       "      <th>quintil</th>\n",
       "      <th>poblacion</th>\n",
       "      <th>isec</th>\n",
       "      <th>pes</th>\n",
       "      <th>deshonestidad</th>\n",
       "      <th>region</th>\n",
       "      <th>tipo_finan</th>\n",
       "      <th>tipo_sexo</th>\n",
       "      <th>tipo_area</th>\n",
       "    </tr>\n",
       "  </thead>\n",
       "  <tbody>\n",
       "    <tr>\n",
       "      <th>0</th>\n",
       "      <td>NQP5X0D9ZJ</td>\n",
       "      <td>01B00020</td>\n",
       "      <td>2</td>\n",
       "      <td>1</td>\n",
       "      <td>4</td>\n",
       "      <td>1</td>\n",
       "      <td>1</td>\n",
       "      <td>4</td>\n",
       "      <td>1</td>\n",
       "      <td>0.868470</td>\n",
       "      <td>610</td>\n",
       "      <td>2</td>\n",
       "      <td>Sierra</td>\n",
       "      <td>Público</td>\n",
       "      <td>Hombre</td>\n",
       "      <td>Rural</td>\n",
       "    </tr>\n",
       "    <tr>\n",
       "      <th>1</th>\n",
       "      <td>G1FZ4Q9CHI</td>\n",
       "      <td>01B00020</td>\n",
       "      <td>2</td>\n",
       "      <td>1</td>\n",
       "      <td>4</td>\n",
       "      <td>1</td>\n",
       "      <td>1</td>\n",
       "      <td>1</td>\n",
       "      <td>1</td>\n",
       "      <td>-1.145630</td>\n",
       "      <td>640</td>\n",
       "      <td>2</td>\n",
       "      <td>Sierra</td>\n",
       "      <td>Público</td>\n",
       "      <td>Hombre</td>\n",
       "      <td>Rural</td>\n",
       "    </tr>\n",
       "    <tr>\n",
       "      <th>2</th>\n",
       "      <td>0JVAJN4VHY</td>\n",
       "      <td>01B00020</td>\n",
       "      <td>2</td>\n",
       "      <td>1</td>\n",
       "      <td>4</td>\n",
       "      <td>1</td>\n",
       "      <td>1</td>\n",
       "      <td>3</td>\n",
       "      <td>1</td>\n",
       "      <td>0.217340</td>\n",
       "      <td>535</td>\n",
       "      <td>2</td>\n",
       "      <td>Sierra</td>\n",
       "      <td>Público</td>\n",
       "      <td>Hombre</td>\n",
       "      <td>Rural</td>\n",
       "    </tr>\n",
       "    <tr>\n",
       "      <th>3</th>\n",
       "      <td>XCVRMB62E2</td>\n",
       "      <td>01B00020</td>\n",
       "      <td>2</td>\n",
       "      <td>1</td>\n",
       "      <td>4</td>\n",
       "      <td>1</td>\n",
       "      <td>1</td>\n",
       "      <td>1</td>\n",
       "      <td>1</td>\n",
       "      <td>-1.351330</td>\n",
       "      <td>706</td>\n",
       "      <td>2</td>\n",
       "      <td>Sierra</td>\n",
       "      <td>Público</td>\n",
       "      <td>Hombre</td>\n",
       "      <td>Rural</td>\n",
       "    </tr>\n",
       "    <tr>\n",
       "      <th>4</th>\n",
       "      <td>U26A1490WL</td>\n",
       "      <td>01B00030</td>\n",
       "      <td>2</td>\n",
       "      <td>2</td>\n",
       "      <td>1</td>\n",
       "      <td>2</td>\n",
       "      <td>1</td>\n",
       "      <td>5</td>\n",
       "      <td>1</td>\n",
       "      <td>1.606370</td>\n",
       "      <td>706</td>\n",
       "      <td>2</td>\n",
       "      <td>Sierra</td>\n",
       "      <td>Privado</td>\n",
       "      <td>Mujer</td>\n",
       "      <td>Rural</td>\n",
       "    </tr>\n",
       "    <tr>\n",
       "      <th>...</th>\n",
       "      <td>...</td>\n",
       "      <td>...</td>\n",
       "      <td>...</td>\n",
       "      <td>...</td>\n",
       "      <td>...</td>\n",
       "      <td>...</td>\n",
       "      <td>...</td>\n",
       "      <td>...</td>\n",
       "      <td>...</td>\n",
       "      <td>...</td>\n",
       "      <td>...</td>\n",
       "      <td>...</td>\n",
       "      <td>...</td>\n",
       "      <td>...</td>\n",
       "      <td>...</td>\n",
       "      <td>...</td>\n",
       "    </tr>\n",
       "    <tr>\n",
       "      <th>302684</th>\n",
       "      <td>93JQW16738</td>\n",
       "      <td>24H00414</td>\n",
       "      <td>1</td>\n",
       "      <td>3</td>\n",
       "      <td>3</td>\n",
       "      <td>1</td>\n",
       "      <td>2</td>\n",
       "      <td>3</td>\n",
       "      <td>1</td>\n",
       "      <td>0.142528</td>\n",
       "      <td>526</td>\n",
       "      <td>2</td>\n",
       "      <td>Costa</td>\n",
       "      <td>Mixto</td>\n",
       "      <td>Hombre</td>\n",
       "      <td>Urbano</td>\n",
       "    </tr>\n",
       "    <tr>\n",
       "      <th>302685</th>\n",
       "      <td>KR4AA18822</td>\n",
       "      <td>24H00414</td>\n",
       "      <td>1</td>\n",
       "      <td>3</td>\n",
       "      <td>3</td>\n",
       "      <td>1</td>\n",
       "      <td>2</td>\n",
       "      <td>2</td>\n",
       "      <td>1</td>\n",
       "      <td>-0.446444</td>\n",
       "      <td>562</td>\n",
       "      <td>2</td>\n",
       "      <td>Costa</td>\n",
       "      <td>Mixto</td>\n",
       "      <td>Hombre</td>\n",
       "      <td>Urbano</td>\n",
       "    </tr>\n",
       "    <tr>\n",
       "      <th>302686</th>\n",
       "      <td>NH82D23826</td>\n",
       "      <td>24H00414</td>\n",
       "      <td>1</td>\n",
       "      <td>3</td>\n",
       "      <td>3</td>\n",
       "      <td>1</td>\n",
       "      <td>2</td>\n",
       "      <td>1</td>\n",
       "      <td>1</td>\n",
       "      <td>-1.109267</td>\n",
       "      <td>592</td>\n",
       "      <td>2</td>\n",
       "      <td>Costa</td>\n",
       "      <td>Mixto</td>\n",
       "      <td>Hombre</td>\n",
       "      <td>Urbano</td>\n",
       "    </tr>\n",
       "    <tr>\n",
       "      <th>302687</th>\n",
       "      <td>ALWJF25514</td>\n",
       "      <td>24H00414</td>\n",
       "      <td>1</td>\n",
       "      <td>3</td>\n",
       "      <td>3</td>\n",
       "      <td>1</td>\n",
       "      <td>2</td>\n",
       "      <td>1</td>\n",
       "      <td>1</td>\n",
       "      <td>-1.339608</td>\n",
       "      <td>604</td>\n",
       "      <td>2</td>\n",
       "      <td>Costa</td>\n",
       "      <td>Mixto</td>\n",
       "      <td>Hombre</td>\n",
       "      <td>Urbano</td>\n",
       "    </tr>\n",
       "    <tr>\n",
       "      <th>302688</th>\n",
       "      <td>7CJWB26404</td>\n",
       "      <td>24H00414</td>\n",
       "      <td>1</td>\n",
       "      <td>3</td>\n",
       "      <td>3</td>\n",
       "      <td>1</td>\n",
       "      <td>2</td>\n",
       "      <td>3</td>\n",
       "      <td>1</td>\n",
       "      <td>0.213561</td>\n",
       "      <td>607</td>\n",
       "      <td>2</td>\n",
       "      <td>Costa</td>\n",
       "      <td>Mixto</td>\n",
       "      <td>Hombre</td>\n",
       "      <td>Urbano</td>\n",
       "    </tr>\n",
       "  </tbody>\n",
       "</table>\n",
       "<p>297497 rows × 16 columns</p>\n",
       "</div>"
      ],
      "text/plain": [
       "            codigo      amie nm_regi financiamiento tp_sost tp_sexo tp_area  \\\n",
       "0       NQP5X0D9ZJ  01B00020       2              1       4       1       1   \n",
       "1       G1FZ4Q9CHI  01B00020       2              1       4       1       1   \n",
       "2       0JVAJN4VHY  01B00020       2              1       4       1       1   \n",
       "3       XCVRMB62E2  01B00020       2              1       4       1       1   \n",
       "4       U26A1490WL  01B00030       2              2       1       2       1   \n",
       "...            ...       ...     ...            ...     ...     ...     ...   \n",
       "302684  93JQW16738  24H00414       1              3       3       1       2   \n",
       "302685  KR4AA18822  24H00414       1              3       3       1       2   \n",
       "302686  NH82D23826  24H00414       1              3       3       1       2   \n",
       "302687  ALWJF25514  24H00414       1              3       3       1       2   \n",
       "302688  7CJWB26404  24H00414       1              3       3       1       2   \n",
       "\n",
       "       quintil poblacion      isec  pes  deshonestidad  region tipo_finan  \\\n",
       "0            4         1  0.868470  610              2  Sierra    Público   \n",
       "1            1         1 -1.145630  640              2  Sierra    Público   \n",
       "2            3         1  0.217340  535              2  Sierra    Público   \n",
       "3            1         1 -1.351330  706              2  Sierra    Público   \n",
       "4            5         1  1.606370  706              2  Sierra    Privado   \n",
       "...        ...       ...       ...  ...            ...     ...        ...   \n",
       "302684       3         1  0.142528  526              2   Costa      Mixto   \n",
       "302685       2         1 -0.446444  562              2   Costa      Mixto   \n",
       "302686       1         1 -1.109267  592              2   Costa      Mixto   \n",
       "302687       1         1 -1.339608  604              2   Costa      Mixto   \n",
       "302688       3         1  0.213561  607              2   Costa      Mixto   \n",
       "\n",
       "       tipo_sexo tipo_area  \n",
       "0         Hombre     Rural  \n",
       "1         Hombre     Rural  \n",
       "2         Hombre     Rural  \n",
       "3         Hombre     Rural  \n",
       "4          Mujer     Rural  \n",
       "...          ...       ...  \n",
       "302684    Hombre    Urbano  \n",
       "302685    Hombre    Urbano  \n",
       "302686    Hombre    Urbano  \n",
       "302687    Hombre    Urbano  \n",
       "302688    Hombre    Urbano  \n",
       "\n",
       "[297497 rows x 16 columns]"
      ]
     },
     "execution_count": 12,
     "metadata": {},
     "output_type": "execute_result"
    }
   ],
   "source": [
    "df_escolares"
   ]
  },
  {
   "cell_type": "markdown",
   "metadata": {},
   "source": [
    "## Análisis Descriptivo de Base de Datos "
   ]
  },
  {
   "cell_type": "code",
   "execution_count": 13,
   "metadata": {},
   "outputs": [
    {
     "name": "stdout",
     "output_type": "stream",
     "text": [
      "                 pes\n",
      "count  297497.000000\n",
      "mean      685.786727\n",
      "std        98.372146\n",
      "min         0.000000\n",
      "25%       610.000000\n",
      "50%       670.000000\n",
      "75%       745.000000\n",
      "max      1000.000000\n"
     ]
    }
   ],
   "source": [
    "# Medidas de tendencia central y dispersion del puntaje para la postulacion a la educacion superior\n",
    "# obtenido por los sustentantes escolares \n",
    "print(df_escolares[['pes']].describe())"
   ]
  },
  {
   "cell_type": "code",
   "execution_count": 17,
   "metadata": {},
   "outputs": [
    {
     "name": "stdout",
     "output_type": "stream",
     "text": [
      "deshonestidad\n",
      "2    297486\n",
      "1        11\n",
      "Name: count, dtype: int64\n"
     ]
    }
   ],
   "source": [
    "print(df_escolares['deshonestidad'].value_counts())"
   ]
  },
  {
   "cell_type": "markdown",
   "metadata": {},
   "source": [
    "- El puntaje promedio que obtuvieron los sustentantes durante el periodo de 2018-2019 fue de aproximadamente 685, un nivel bajo cuando el mínimo puntaje es 400 y el máximo 1000. Aquellos estudiantes que obtuvieron un puntaje de 0, se debe a que cometieron deshonestidad académica, los cuales son un total de 11 sustentantes escolares."
   ]
  },
  {
   "cell_type": "code",
   "execution_count": 26,
   "metadata": {},
   "outputs": [
    {
     "name": "stdout",
     "output_type": "stream",
     "text": [
      "tipo_area  tipo_sexo\n",
      "Rural      Hombre       679.487572\n",
      "           Mujer        680.360672\n",
      "Urbano     Hombre       687.867450\n",
      "           Mujer        686.352839\n",
      "Exterior   Hombre              NaN\n",
      "           Mujer               NaN\n",
      "Name: pes, dtype: float64\n"
     ]
    },
    {
     "name": "stderr",
     "output_type": "stream",
     "text": [
      "C:\\Users\\nicole.gaibor\\AppData\\Local\\Temp\\ipykernel_2904\\762605419.py:2: FutureWarning: The default of observed=False is deprecated and will be changed to True in a future version of pandas. Pass observed=False to retain current behavior or observed=True to adopt the future default and silence this warning.\n",
      "  print(df_escolares.groupby(['tipo_area','tipo_sexo'])['pes'].mean())\n"
     ]
    }
   ],
   "source": [
    "# Promedio en el puntaje obtenido por sexo según el área en el que se encuentran ubicados\n",
    "print(df_escolares.groupby(['tipo_area','tipo_sexo'])['pes'].mean())"
   ]
  },
  {
   "cell_type": "markdown",
   "metadata": {},
   "source": [
    "- Se puede observar que existe una diferencia de 8 puntos en el promedio de la nota obtenida por los hombres en el área urbana con los hombres que residen en el área rural.\n",
    "- La diferencia entre los puntajes obtenidos por las mujeres es menor (6 puntos).\n",
    "- Cabe mencionar que los promedios no superan los 690 puntos, lo que puede indicar el pobre desempeño de los sustentantes."
   ]
  },
  {
   "cell_type": "code",
   "execution_count": 27,
   "metadata": {},
   "outputs": [
    {
     "name": "stdout",
     "output_type": "stream",
     "text": [
      "quintil                 1      2      3      4      5\n",
      "region                                               \n",
      "Costa               34923  29957  28844  28181  30458\n",
      "Sierra              24918  23933  23652  24747  29637\n",
      "Oriente              6982   3828   2555   2211   1844\n",
      "Insular                22     36     70    112    170\n",
      "Zona no delimitada    162    112     86     40     17\n"
     ]
    }
   ],
   "source": [
    "# Relación entre 'sexo' y 'poblacion'\n",
    "print(pd.crosstab(df_escolares['region'], df_escolares['quintil']))"
   ]
  },
  {
   "cell_type": "markdown",
   "metadata": {},
   "source": [
    "- En la costa se localizan la mayoría de sustentantes que se encuentran en el quintil 1 (nivel socioeconómico más bajo).\n",
    "- La mayoría de los sustentantes en la región insular pertenecen al quintil 5 (nivel socioeconómico más alto).\n",
    "- El 38,84% de los sustentantes en zonas no delimitados son clasificados en el quintil 1. "
   ]
  },
  {
   "cell_type": "code",
   "execution_count": 30,
   "metadata": {
    "metadata": {}
   },
   "outputs": [
    {
     "name": "stderr",
     "output_type": "stream",
     "text": [
      "C:\\Users\\nicole.gaibor\\AppData\\Local\\Temp\\ipykernel_2904\\1306866465.py:2: FutureWarning: The default of observed=False is deprecated and will be changed to True in a future version of pandas. Pass observed=False to retain current behavior or observed=True to adopt the future default and silence this warning.\n",
      "  por_reg = df_escolares.groupby(['region'])['codigo'].count().reset_index()\n"
     ]
    },
    {
     "data": {
      "text/html": [
       "<div>\n",
       "<style scoped>\n",
       "    .dataframe tbody tr th:only-of-type {\n",
       "        vertical-align: middle;\n",
       "    }\n",
       "\n",
       "    .dataframe tbody tr th {\n",
       "        vertical-align: top;\n",
       "    }\n",
       "\n",
       "    .dataframe thead th {\n",
       "        text-align: right;\n",
       "    }\n",
       "</style>\n",
       "<table border=\"1\" class=\"dataframe\">\n",
       "  <thead>\n",
       "    <tr style=\"text-align: right;\">\n",
       "      <th></th>\n",
       "      <th>region</th>\n",
       "      <th>codigo</th>\n",
       "      <th>porcentaje</th>\n",
       "    </tr>\n",
       "  </thead>\n",
       "  <tbody>\n",
       "    <tr>\n",
       "      <th>0</th>\n",
       "      <td>Costa</td>\n",
       "      <td>152363</td>\n",
       "      <td>51.214970</td>\n",
       "    </tr>\n",
       "    <tr>\n",
       "      <th>1</th>\n",
       "      <td>Sierra</td>\n",
       "      <td>126887</td>\n",
       "      <td>42.651523</td>\n",
       "    </tr>\n",
       "    <tr>\n",
       "      <th>2</th>\n",
       "      <td>Oriente</td>\n",
       "      <td>17420</td>\n",
       "      <td>5.855521</td>\n",
       "    </tr>\n",
       "    <tr>\n",
       "      <th>3</th>\n",
       "      <td>Insular</td>\n",
       "      <td>410</td>\n",
       "      <td>0.137817</td>\n",
       "    </tr>\n",
       "    <tr>\n",
       "      <th>4</th>\n",
       "      <td>Zona no delimitada</td>\n",
       "      <td>417</td>\n",
       "      <td>0.140169</td>\n",
       "    </tr>\n",
       "    <tr>\n",
       "      <th>5</th>\n",
       "      <td>Exterior</td>\n",
       "      <td>0</td>\n",
       "      <td>0.000000</td>\n",
       "    </tr>\n",
       "  </tbody>\n",
       "</table>\n",
       "</div>"
      ],
      "text/plain": [
       "               region  codigo  porcentaje\n",
       "0               Costa  152363   51.214970\n",
       "1              Sierra  126887   42.651523\n",
       "2             Oriente   17420    5.855521\n",
       "3             Insular     410    0.137817\n",
       "4  Zona no delimitada     417    0.140169\n",
       "5            Exterior       0    0.000000"
      ]
     },
     "execution_count": 30,
     "metadata": {},
     "output_type": "execute_result"
    }
   ],
   "source": [
    "# Agrupación a nivel de estudiante y región\n",
    "por_reg = df_escolares.groupby(['region'])['codigo'].count().reset_index()\n",
    "por_reg['porcentaje'] = (por_reg['codigo']/por_reg['codigo'].sum())*100\n",
    "por_reg"
   ]
  },
  {
   "cell_type": "markdown",
   "metadata": {},
   "source": [
    "- Más de la mitad de los sustentantes se localizan en la región Costa. \n",
    "- Alrededor del 90% de escolares residen en la región Costa y Sierra."
   ]
  },
  {
   "cell_type": "code",
   "execution_count": 32,
   "metadata": {},
   "outputs": [
    {
     "name": "stderr",
     "output_type": "stream",
     "text": [
      "C:\\Users\\nicole.gaibor\\AppData\\Local\\Temp\\ipykernel_2904\\209585390.py:3: FutureWarning: The default of observed=False is deprecated and will be changed to True in a future version of pandas. Pass observed=False to retain current behavior or observed=True to adopt the future default and silence this warning.\n",
      "  reg_inst = df_inst.groupby(['region'])['amie'].count().reset_index()\n"
     ]
    },
    {
     "data": {
      "text/html": [
       "<div>\n",
       "<style scoped>\n",
       "    .dataframe tbody tr th:only-of-type {\n",
       "        vertical-align: middle;\n",
       "    }\n",
       "\n",
       "    .dataframe tbody tr th {\n",
       "        vertical-align: top;\n",
       "    }\n",
       "\n",
       "    .dataframe thead th {\n",
       "        text-align: right;\n",
       "    }\n",
       "</style>\n",
       "<table border=\"1\" class=\"dataframe\">\n",
       "  <thead>\n",
       "    <tr style=\"text-align: right;\">\n",
       "      <th></th>\n",
       "      <th>region</th>\n",
       "      <th>amie</th>\n",
       "      <th>porcentaje</th>\n",
       "    </tr>\n",
       "  </thead>\n",
       "  <tbody>\n",
       "    <tr>\n",
       "      <th>0</th>\n",
       "      <td>Costa</td>\n",
       "      <td>1534</td>\n",
       "      <td>42.015886</td>\n",
       "    </tr>\n",
       "    <tr>\n",
       "      <th>1</th>\n",
       "      <td>Sierra</td>\n",
       "      <td>1742</td>\n",
       "      <td>47.712955</td>\n",
       "    </tr>\n",
       "    <tr>\n",
       "      <th>2</th>\n",
       "      <td>Oriente</td>\n",
       "      <td>360</td>\n",
       "      <td>9.860312</td>\n",
       "    </tr>\n",
       "    <tr>\n",
       "      <th>3</th>\n",
       "      <td>Insular</td>\n",
       "      <td>9</td>\n",
       "      <td>0.246508</td>\n",
       "    </tr>\n",
       "    <tr>\n",
       "      <th>4</th>\n",
       "      <td>Zona no delimitada</td>\n",
       "      <td>6</td>\n",
       "      <td>0.164339</td>\n",
       "    </tr>\n",
       "    <tr>\n",
       "      <th>5</th>\n",
       "      <td>Exterior</td>\n",
       "      <td>0</td>\n",
       "      <td>0.000000</td>\n",
       "    </tr>\n",
       "  </tbody>\n",
       "</table>\n",
       "</div>"
      ],
      "text/plain": [
       "               region  amie  porcentaje\n",
       "0               Costa  1534   42.015886\n",
       "1              Sierra  1742   47.712955\n",
       "2             Oriente   360    9.860312\n",
       "3             Insular     9    0.246508\n",
       "4  Zona no delimitada     6    0.164339\n",
       "5            Exterior     0    0.000000"
      ]
     },
     "execution_count": 32,
     "metadata": {},
     "output_type": "execute_result"
    }
   ],
   "source": [
    "# Agrupación nivel de institución y región\n",
    "df_inst = df_escolares.drop_duplicates(['amie'])\n",
    "reg_inst = df_inst.groupby(['region'])['amie'].count().reset_index()\n",
    "reg_inst['porcentaje'] = (reg_inst['amie']/reg_inst['amie'].sum())*100\n",
    "reg_inst"
   ]
  },
  {
   "cell_type": "markdown",
   "metadata": {},
   "source": [
    "- A pesar que la mayoría de los sustentantes se encuentran en la región Costa, la Sierra tiene un mayor número de instituciones educativas. "
   ]
  },
  {
   "cell_type": "code",
   "execution_count": 33,
   "metadata": {},
   "outputs": [
    {
     "name": "stdout",
     "output_type": "stream",
     "text": [
      "3651\n"
     ]
    }
   ],
   "source": [
    "# Numero de instituciones educativas en la base\n",
    "print(reg_inst['amie'].sum())"
   ]
  },
  {
   "cell_type": "code",
   "execution_count": 34,
   "metadata": {},
   "outputs": [
    {
     "data": {
      "text/html": [
       "<div>\n",
       "<style scoped>\n",
       "    .dataframe tbody tr th:only-of-type {\n",
       "        vertical-align: middle;\n",
       "    }\n",
       "\n",
       "    .dataframe tbody tr th {\n",
       "        vertical-align: top;\n",
       "    }\n",
       "\n",
       "    .dataframe thead th {\n",
       "        text-align: right;\n",
       "    }\n",
       "</style>\n",
       "<table border=\"1\" class=\"dataframe\">\n",
       "  <thead>\n",
       "    <tr style=\"text-align: right;\">\n",
       "      <th></th>\n",
       "      <th>tipo_finan</th>\n",
       "      <th>amie</th>\n",
       "      <th>porcentaje</th>\n",
       "    </tr>\n",
       "  </thead>\n",
       "  <tbody>\n",
       "    <tr>\n",
       "      <th>0</th>\n",
       "      <td>Mixto</td>\n",
       "      <td>330</td>\n",
       "      <td>9.038620</td>\n",
       "    </tr>\n",
       "    <tr>\n",
       "      <th>1</th>\n",
       "      <td>Privado</td>\n",
       "      <td>1132</td>\n",
       "      <td>31.005204</td>\n",
       "    </tr>\n",
       "    <tr>\n",
       "      <th>2</th>\n",
       "      <td>Público</td>\n",
       "      <td>2189</td>\n",
       "      <td>59.956176</td>\n",
       "    </tr>\n",
       "  </tbody>\n",
       "</table>\n",
       "</div>"
      ],
      "text/plain": [
       "  tipo_finan  amie  porcentaje\n",
       "0      Mixto   330    9.038620\n",
       "1    Privado  1132   31.005204\n",
       "2    Público  2189   59.956176"
      ]
     },
     "execution_count": 34,
     "metadata": {},
     "output_type": "execute_result"
    }
   ],
   "source": [
    "# Agrupación de las instituciones educativas según su financiamiento\n",
    "fin_inst = df_inst.groupby(['tipo_finan'])['amie'].count().reset_index()\n",
    "fin_inst['porcentaje'] = (fin_inst['amie']/fin_inst['amie'].sum())*100\n",
    "fin_inst"
   ]
  },
  {
   "cell_type": "markdown",
   "metadata": {},
   "source": [
    "- A nivel nacional, en el periodo de 2018-2019, el 59,95% son de tipo público, es decir, financiadas por el estado. "
   ]
  },
  {
   "cell_type": "code",
   "execution_count": 53,
   "metadata": {},
   "outputs": [
    {
     "name": "stdout",
     "output_type": "stream",
     "text": [
      "Prueba de Kolmogorov-Smirnov para colegios públicos: Estadístico=0.07835146722578862, p-valor=0.0\n",
      "Distribución pública no parece normal (se rechaza H0)\n",
      "Prueba de Kolmogorov-Smirnov para colegios privados: Estadístico=0.0345522288080965, p-valor=4.805841511353837e-60\n",
      "Distribución privada no parece normal (se rechaza H0)\n"
     ]
    }
   ],
   "source": [
    "# Identificación de normalidad en los puntajes obtenidos según el tipo de financiamiento de la institución\n",
    "from scipy.stats import kstest\n",
    "\n",
    "# Comparación entre financiamiento público y privado\n",
    "publico = df_escolares[df_escolares['tipo_finan'] == 'Público']['pes']\n",
    "privado = df_escolares[df_escolares['tipo_finan'] == 'Privado']['pes']\n",
    "\n",
    "# Prueba de Kolmogorov-Smirnov para colegios públicos\n",
    "stat, p = kstest(publico, 'norm', args=(publico.mean(), publico.std()))\n",
    "print(f'Prueba de Kolmogorov-Smirnov para colegios públicos: Estadístico={stat}, p-valor={p}')\n",
    "if p > 0.05:\n",
    "    print('Distribución pública parece normal (no se rechaza H0)')\n",
    "else:\n",
    "    print('Distribución pública no parece normal (se rechaza H0)')\n",
    "\n",
    "# Prueba de Kolmogorov-Smirnov para colegios privados\n",
    "stat, p = kstest(privado, 'norm', args=(privado.mean(), privado.std()))\n",
    "print(f'Prueba de Kolmogorov-Smirnov para colegios privados: Estadístico={stat}, p-valor={p}')\n",
    "if p > 0.05:\n",
    "    print('Distribución privada parece normal (no se rechaza H0)')\n",
    "else:\n",
    "    print('Distribución privada no parece normal (se rechaza H0)')"
   ]
  },
  {
   "cell_type": "code",
   "execution_count": 60,
   "metadata": {},
   "outputs": [
    {
     "name": "stdout",
     "output_type": "stream",
     "text": [
      "Prueba de Mann-Whitney U: Estadístico=4194703797.0, p-valor=0.0\n",
      "Hay una diferencia significativa entre los puntajes (se rechaza H0)\n"
     ]
    }
   ],
   "source": [
    "from scipy.stats import mannwhitneyu\n",
    "\n",
    "# Prueba de Mann-Whitney U para colegios públicos vs privados\n",
    "stat, p = mannwhitneyu(publico, privado)\n",
    "print(f'Prueba de Mann-Whitney U: Estadístico={stat}, p-valor={p}')\n",
    "if p > 0.05:\n",
    "    print('No hay diferencia significativa entre los puntajes (no se rechaza H0)')\n",
    "else:\n",
    "    print('Hay una diferencia significativa entre los puntajes (se rechaza H0)')"
   ]
  },
  {
   "cell_type": "code",
   "execution_count": 52,
   "metadata": {},
   "outputs": [
    {
     "data": {
      "image/png": "[encoded data removed]",
      "text/plain": [
       "<Figure size 400x400 with 1 Axes>"
      ]
     },
     "metadata": {},
     "output_type": "display_data"
    }
   ],
   "source": [
    "#Gráfico de densidades de kernel para lo colegios de tipo Público y Privado\n",
    "plt.figure(figsize=(4, 4))\n",
    "sns.kdeplot(df_escolares[df_escolares['tipo_finan'] == 'Público']['pes'], fill=True, label='Público')\n",
    "\n",
    "# Crear un gráfico de densidad de kernel para colegios privados\n",
    "sns.kdeplot(df_escolares[df_escolares['tipo_finan'] == 'Privado']['pes'], fill=True, label='Privado')\n",
    "\n",
    "# Añadir etiquetas y título\n",
    "plt.xlabel('Puntaje de Evaluación')\n",
    "plt.ylabel('Densidad')\n",
    "plt.title('Gráfico de Densidad de Kernel por Tipo de Financiamiento') \n",
    "\n",
    "# Añadir una leyenda\n",
    "plt.legend()\n",
    "\n",
    "# Mostrar el gráfico\n",
    "plt.show()"
   ]
  },
  {
   "cell_type": "code",
   "execution_count": 62,
   "metadata": {},
   "outputs": [
    {
     "data": {
      "image/png": "[encoded data removed]",
      "text/plain": [
       "<Figure size 400x400 with 1 Axes>"
      ]
     },
     "metadata": {},
     "output_type": "display_data"
    }
   ],
   "source": [
    "# Boxplot\n",
    "plt.figure(figsize=(4, 4))\n",
    "sns.boxplot(x='tipo_finan', y='pes', data=df_escolares)\n",
    "\n",
    "# Calcular las medianas\n",
    "medianas = df_escolares.groupby('tipo_finan')['pes'].median().values\n",
    "\n",
    "# Agregar anotaciones de las medianas\n",
    "for i, median in enumerate(medianas):\n",
    "    plt.text(i, median, f'{median:.2f}', ha='center', va='center', fontsize=8, color='white', bbox=dict(facecolor='black'))\n",
    "\n",
    "# Añadir etiquetas y título\n",
    "plt.title('Boxplot de Puntaje por Tipo de Financiamiento')\n",
    "plt.xlabel('Tipo de Financiamiento')\n",
    "plt.ylabel('Puntaje de Evaluación')\n",
    "\n",
    "# Mostrar el gráfico\n",
    "plt.show()"
   ]
  },
  {
   "cell_type": "markdown",
   "metadata": {},
   "source": [
    "- En el gráfico se puede observar lo obtenido con el análisis de diferencia de medias "
   ]
  },
  {
   "cell_type": "code",
   "execution_count": 58,
   "metadata": {},
   "outputs": [
    {
     "name": "stderr",
     "output_type": "stream",
     "text": [
      "C:\\Users\\nicole.gaibor\\AppData\\Local\\Temp\\ipykernel_2904\\4288410814.py:2: FutureWarning: The default of observed=False is deprecated and will be changed to True in a future version of pandas. Pass observed=False to retain current behavior or observed=True to adopt the future default and silence this warning.\n",
      "  df_notas = df_escolares.groupby(['quintil','pes'])['amie'].count().reset_index()\n"
     ]
    },
    {
     "data": {
      "text/html": [
       "<div>\n",
       "<style scoped>\n",
       "    .dataframe tbody tr th:only-of-type {\n",
       "        vertical-align: middle;\n",
       "    }\n",
       "\n",
       "    .dataframe tbody tr th {\n",
       "        vertical-align: top;\n",
       "    }\n",
       "\n",
       "    .dataframe thead th {\n",
       "        text-align: right;\n",
       "    }\n",
       "</style>\n",
       "<table border=\"1\" class=\"dataframe\">\n",
       "  <thead>\n",
       "    <tr style=\"text-align: right;\">\n",
       "      <th></th>\n",
       "      <th>quintil</th>\n",
       "      <th>pes</th>\n",
       "      <th>amie</th>\n",
       "    </tr>\n",
       "  </thead>\n",
       "  <tbody>\n",
       "    <tr>\n",
       "      <th>0</th>\n",
       "      <td>1</td>\n",
       "      <td>0</td>\n",
       "      <td>22</td>\n",
       "    </tr>\n",
       "    <tr>\n",
       "      <th>1</th>\n",
       "      <td>1</td>\n",
       "      <td>400</td>\n",
       "      <td>1</td>\n",
       "    </tr>\n",
       "    <tr>\n",
       "      <th>2</th>\n",
       "      <td>1</td>\n",
       "      <td>409</td>\n",
       "      <td>1</td>\n",
       "    </tr>\n",
       "    <tr>\n",
       "      <th>3</th>\n",
       "      <td>1</td>\n",
       "      <td>412</td>\n",
       "      <td>0</td>\n",
       "    </tr>\n",
       "    <tr>\n",
       "      <th>4</th>\n",
       "      <td>1</td>\n",
       "      <td>421</td>\n",
       "      <td>2</td>\n",
       "    </tr>\n",
       "    <tr>\n",
       "      <th>...</th>\n",
       "      <td>...</td>\n",
       "      <td>...</td>\n",
       "      <td>...</td>\n",
       "    </tr>\n",
       "    <tr>\n",
       "      <th>1165</th>\n",
       "      <td>999999</td>\n",
       "      <td>988</td>\n",
       "      <td>0</td>\n",
       "    </tr>\n",
       "    <tr>\n",
       "      <th>1166</th>\n",
       "      <td>999999</td>\n",
       "      <td>991</td>\n",
       "      <td>0</td>\n",
       "    </tr>\n",
       "    <tr>\n",
       "      <th>1167</th>\n",
       "      <td>999999</td>\n",
       "      <td>994</td>\n",
       "      <td>0</td>\n",
       "    </tr>\n",
       "    <tr>\n",
       "      <th>1168</th>\n",
       "      <td>999999</td>\n",
       "      <td>997</td>\n",
       "      <td>0</td>\n",
       "    </tr>\n",
       "    <tr>\n",
       "      <th>1169</th>\n",
       "      <td>999999</td>\n",
       "      <td>1000</td>\n",
       "      <td>0</td>\n",
       "    </tr>\n",
       "  </tbody>\n",
       "</table>\n",
       "<p>1170 rows × 3 columns</p>\n",
       "</div>"
      ],
      "text/plain": [
       "     quintil   pes  amie\n",
       "0          1     0    22\n",
       "1          1   400     1\n",
       "2          1   409     1\n",
       "3          1   412     0\n",
       "4          1   421     2\n",
       "...      ...   ...   ...\n",
       "1165  999999   988     0\n",
       "1166  999999   991     0\n",
       "1167  999999   994     0\n",
       "1168  999999   997     0\n",
       "1169  999999  1000     0\n",
       "\n",
       "[1170 rows x 3 columns]"
      ]
     },
     "execution_count": 58,
     "metadata": {},
     "output_type": "execute_result"
    }
   ],
   "source": [
    "#Agrupacion por quintil y nota de evaluacion\n",
    "df_notas = df_escolares.groupby(['quintil','pes'])['amie'].count().reset_index()\n",
    "df_notas"
   ]
  },
  {
   "cell_type": "code",
   "execution_count": 5,
   "metadata": {},
   "outputs": [
    {
     "data": {
      "text/html": [
       "<div>\n",
       "<style scoped>\n",
       "    .dataframe tbody tr th:only-of-type {\n",
       "        vertical-align: middle;\n",
       "    }\n",
       "\n",
       "    .dataframe tbody tr th {\n",
       "        vertical-align: top;\n",
       "    }\n",
       "\n",
       "    .dataframe thead th {\n",
       "        text-align: right;\n",
       "    }\n",
       "</style>\n",
       "<table border=\"1\" class=\"dataframe\">\n",
       "  <thead>\n",
       "    <tr style=\"text-align: right;\">\n",
       "      <th></th>\n",
       "      <th>quintil</th>\n",
       "      <th>pes</th>\n",
       "      <th>codigo</th>\n",
       "      <th>nota_inev</th>\n",
       "    </tr>\n",
       "  </thead>\n",
       "  <tbody>\n",
       "    <tr>\n",
       "      <th>0</th>\n",
       "      <td>1</td>\n",
       "      <td>400</td>\n",
       "      <td>1</td>\n",
       "      <td>4.00</td>\n",
       "    </tr>\n",
       "    <tr>\n",
       "      <th>1</th>\n",
       "      <td>1</td>\n",
       "      <td>409</td>\n",
       "      <td>1</td>\n",
       "      <td>4.09</td>\n",
       "    </tr>\n",
       "    <tr>\n",
       "      <th>2</th>\n",
       "      <td>1</td>\n",
       "      <td>421</td>\n",
       "      <td>2</td>\n",
       "      <td>4.21</td>\n",
       "    </tr>\n",
       "    <tr>\n",
       "      <th>3</th>\n",
       "      <td>1</td>\n",
       "      <td>433</td>\n",
       "      <td>1</td>\n",
       "      <td>4.33</td>\n",
       "    </tr>\n",
       "    <tr>\n",
       "      <th>4</th>\n",
       "      <td>1</td>\n",
       "      <td>439</td>\n",
       "      <td>1</td>\n",
       "      <td>4.39</td>\n",
       "    </tr>\n",
       "    <tr>\n",
       "      <th>...</th>\n",
       "      <td>...</td>\n",
       "      <td>...</td>\n",
       "      <td>...</td>\n",
       "      <td>...</td>\n",
       "    </tr>\n",
       "    <tr>\n",
       "      <th>901</th>\n",
       "      <td>5</td>\n",
       "      <td>988</td>\n",
       "      <td>44</td>\n",
       "      <td>9.88</td>\n",
       "    </tr>\n",
       "    <tr>\n",
       "      <th>902</th>\n",
       "      <td>5</td>\n",
       "      <td>991</td>\n",
       "      <td>39</td>\n",
       "      <td>9.91</td>\n",
       "    </tr>\n",
       "    <tr>\n",
       "      <th>903</th>\n",
       "      <td>5</td>\n",
       "      <td>994</td>\n",
       "      <td>42</td>\n",
       "      <td>9.94</td>\n",
       "    </tr>\n",
       "    <tr>\n",
       "      <th>904</th>\n",
       "      <td>5</td>\n",
       "      <td>997</td>\n",
       "      <td>39</td>\n",
       "      <td>9.97</td>\n",
       "    </tr>\n",
       "    <tr>\n",
       "      <th>905</th>\n",
       "      <td>5</td>\n",
       "      <td>1000</td>\n",
       "      <td>52</td>\n",
       "      <td>10.00</td>\n",
       "    </tr>\n",
       "  </tbody>\n",
       "</table>\n",
       "<p>906 rows × 4 columns</p>\n",
       "</div>"
      ],
      "text/plain": [
       "     quintil   pes  codigo  nota_inev\n",
       "0          1   400       1       4.00\n",
       "1          1   409       1       4.09\n",
       "2          1   421       2       4.21\n",
       "3          1   433       1       4.33\n",
       "4          1   439       1       4.39\n",
       "..       ...   ...     ...        ...\n",
       "901        5   988      44       9.88\n",
       "902        5   991      39       9.91\n",
       "903        5   994      42       9.94\n",
       "904        5   997      39       9.97\n",
       "905        5  1000      52      10.00\n",
       "\n",
       "[906 rows x 4 columns]"
      ]
     },
     "execution_count": 5,
     "metadata": {},
     "output_type": "execute_result"
    }
   ],
   "source": [
    "df_notas['nota_inev'] = df_notas['pes']/100\n",
    "df_notas"
   ]
  },
  {
   "cell_type": "code",
   "execution_count": 6,
   "metadata": {},
   "outputs": [],
   "source": [
    "# Calcular el promedio de la nota y el número total de alumnos por quintil\n",
    "df_agg = df_notas.groupby('quintil').agg({\n",
    "    'nota_inev': 'mean',\n",
    "    'codigo': 'sum'\n",
    "}).reset_index()"
   ]
  },
  {
   "cell_type": "code",
   "execution_count": 7,
   "metadata": {},
   "outputs": [
    {
     "data": {
      "text/html": [
       "<div>\n",
       "<style scoped>\n",
       "    .dataframe tbody tr th:only-of-type {\n",
       "        vertical-align: middle;\n",
       "    }\n",
       "\n",
       "    .dataframe tbody tr th {\n",
       "        vertical-align: top;\n",
       "    }\n",
       "\n",
       "    .dataframe thead th {\n",
       "        text-align: right;\n",
       "    }\n",
       "</style>\n",
       "<table border=\"1\" class=\"dataframe\">\n",
       "  <thead>\n",
       "    <tr style=\"text-align: right;\">\n",
       "      <th></th>\n",
       "      <th>quintil</th>\n",
       "      <th>nota_inev</th>\n",
       "      <th>codigo</th>\n",
       "    </tr>\n",
       "  </thead>\n",
       "  <tbody>\n",
       "    <tr>\n",
       "      <th>0</th>\n",
       "      <td>1</td>\n",
       "      <td>7.188298</td>\n",
       "      <td>66985</td>\n",
       "    </tr>\n",
       "    <tr>\n",
       "      <th>1</th>\n",
       "      <td>2</td>\n",
       "      <td>7.278901</td>\n",
       "      <td>57853</td>\n",
       "    </tr>\n",
       "    <tr>\n",
       "      <th>2</th>\n",
       "      <td>3</td>\n",
       "      <td>7.370909</td>\n",
       "      <td>55170</td>\n",
       "    </tr>\n",
       "    <tr>\n",
       "      <th>3</th>\n",
       "      <td>4</td>\n",
       "      <td>7.289227</td>\n",
       "      <td>55268</td>\n",
       "    </tr>\n",
       "    <tr>\n",
       "      <th>4</th>\n",
       "      <td>5</td>\n",
       "      <td>7.318436</td>\n",
       "      <td>62084</td>\n",
       "    </tr>\n",
       "  </tbody>\n",
       "</table>\n",
       "</div>"
      ],
      "text/plain": [
       "   quintil  nota_inev  codigo\n",
       "0        1   7.188298   66985\n",
       "1        2   7.278901   57853\n",
       "2        3   7.370909   55170\n",
       "3        4   7.289227   55268\n",
       "4        5   7.318436   62084"
      ]
     },
     "execution_count": 7,
     "metadata": {},
     "output_type": "execute_result"
    }
   ],
   "source": [
    "df_agg"
   ]
  },
  {
   "cell_type": "code",
   "execution_count": 8,
   "metadata": {},
   "outputs": [
    {
     "data": {
      "application/vnd.plotly.v1+json": {
       "config": {
        "plotlyServerURL": "https://plot.ly"
       },
       "data": [
        {
         "hovertemplate": "Quintil socioeconómico=%{x}<br>Promedio de Nota Ser Bachiller=%{y}<br>Número de Alumnos=%{text}<extra></extra>",
         "legendgroup": "",
         "marker": {
          "color": "#636efa",
          "size": [
           66985,
           57853,
           55170,
           55268,
           62084
          ],
          "sizemode": "area",
          "sizeref": 18.606944444444444,
          "symbol": "circle"
         },
         "mode": "markers+text",
         "name": "",
         "orientation": "v",
         "showlegend": false,
         "text": [
          66985,
          57853,
          55170,
          55268,
          62084
         ],
         "textposition": "middle center",
         "type": "scatter",
         "x": [
          1,
          2,
          3,
          4,
          5
         ],
         "xaxis": "x",
         "y": [
          7.188297872340426,
          7.278901098901099,
          7.370909090909091,
          7.289226519337016,
          7.318435754189944
         ],
         "yaxis": "y"
        }
       ],
       "layout": {
        "legend": {
         "itemsizing": "constant",
         "tracegroupgap": 0
        },
        "template": {
         "data": {
          "bar": [
           {
            "error_x": {
             "color": "#2a3f5f"
            },
            "error_y": {
             "color": "#2a3f5f"
            },
            "marker": {
             "line": {
              "color": "#E5ECF6",
              "width": 0.5
             },
             "pattern": {
              "fillmode": "overlay",
              "size": 10,
              "solidity": 0.2
             }
            },
            "type": "bar"
           }
          ],
          "barpolar": [
           {
            "marker": {
             "line": {
              "color": "#E5ECF6",
              "width": 0.5
             },
             "pattern": {
              "fillmode": "overlay",
              "size": 10,
              "solidity": 0.2
             }
            },
            "type": "barpolar"
           }
          ],
          "carpet": [
           {
            "aaxis": {
             "endlinecolor": "#2a3f5f",
             "gridcolor": "white",
             "linecolor": "white",
             "minorgridcolor": "white",
             "startlinecolor": "#2a3f5f"
            },
            "baxis": {
             "endlinecolor": "#2a3f5f",
             "gridcolor": "white",
             "linecolor": "white",
             "minorgridcolor": "white",
             "startlinecolor": "#2a3f5f"
            },
            "type": "carpet"
           }
          ],
          "choropleth": [
           {
            "colorbar": {
             "outlinewidth": 0,
             "ticks": ""
            },
            "type": "choropleth"
           }
          ],
          "contour": [
           {
            "colorbar": {
             "outlinewidth": 0,
             "ticks": ""
            },
            "colorscale": [
             [
              0,
              "#0d0887"
             ],
             [
              0.1111111111111111,
              "#46039f"
             ],
             [
              0.2222222222222222,
              "#7201a8"
             ],
             [
              0.3333333333333333,
              "#9c179e"
             ],
             [
              0.4444444444444444,
              "#bd3786"
             ],
             [
              0.5555555555555556,
              "#d8576b"
             ],
             [
              0.6666666666666666,
              "#ed7953"
             ],
             [
              0.7777777777777778,
              "#fb9f3a"
             ],
             [
              0.8888888888888888,
              "#fdca26"
             ],
             [
              1,
              "#f0f921"
             ]
            ],
            "type": "contour"
           }
          ],
          "contourcarpet": [
           {
            "colorbar": {
             "outlinewidth": 0,
             "ticks": ""
            },
            "type": "contourcarpet"
           }
          ],
          "heatmap": [
           {
            "colorbar": {
             "outlinewidth": 0,
             "ticks": ""
            },
            "colorscale": [
             [
              0,
              "#0d0887"
             ],
             [
              0.1111111111111111,
              "#46039f"
             ],
             [
              0.2222222222222222,
              "#7201a8"
             ],
             [
              0.3333333333333333,
              "#9c179e"
             ],
             [
              0.4444444444444444,
              "#bd3786"
             ],
             [
              0.5555555555555556,
              "#d8576b"
             ],
             [
              0.6666666666666666,
              "#ed7953"
             ],
             [
              0.7777777777777778,
              "#fb9f3a"
             ],
             [
              0.8888888888888888,
              "#fdca26"
             ],
             [
              1,
              "#f0f921"
             ]
            ],
            "type": "heatmap"
           }
          ],
          "heatmapgl": [
           {
            "colorbar": {
             "outlinewidth": 0,
             "ticks": ""
            },
            "colorscale": [
             [
              0,
              "#0d0887"
             ],
             [
              0.1111111111111111,
              "#46039f"
             ],
             [
              0.2222222222222222,
              "#7201a8"
             ],
             [
              0.3333333333333333,
              "#9c179e"
             ],
             [
              0.4444444444444444,
              "#bd3786"
             ],
             [
              0.5555555555555556,
              "#d8576b"
             ],
             [
              0.6666666666666666,
              "#ed7953"
             ],
             [
              0.7777777777777778,
              "#fb9f3a"
             ],
             [
              0.8888888888888888,
              "#fdca26"
             ],
             [
              1,
              "#f0f921"
             ]
            ],
            "type": "heatmapgl"
           }
          ],
          "histogram": [
           {
            "marker": {
             "pattern": {
              "fillmode": "overlay",
              "size": 10,
              "solidity": 0.2
             }
            },
            "type": "histogram"
           }
          ],
          "histogram2d": [
           {
            "colorbar": {
             "outlinewidth": 0,
             "ticks": ""
            },
            "colorscale": [
             [
              0,
              "#0d0887"
             ],
             [
              0.1111111111111111,
              "#46039f"
             ],
             [
              0.2222222222222222,
              "#7201a8"
             ],
             [
              0.3333333333333333,
              "#9c179e"
             ],
             [
              0.4444444444444444,
              "#bd3786"
             ],
             [
              0.5555555555555556,
              "#d8576b"
             ],
             [
              0.6666666666666666,
              "#ed7953"
             ],
             [
              0.7777777777777778,
              "#fb9f3a"
             ],
             [
              0.8888888888888888,
              "#fdca26"
             ],
             [
              1,
              "#f0f921"
             ]
            ],
            "type": "histogram2d"
           }
          ],
          "histogram2dcontour": [
           {
            "colorbar": {
             "outlinewidth": 0,
             "ticks": ""
            },
            "colorscale": [
             [
              0,
              "#0d0887"
             ],
             [
              0.1111111111111111,
              "#46039f"
             ],
             [
              0.2222222222222222,
              "#7201a8"
             ],
             [
              0.3333333333333333,
              "#9c179e"
             ],
             [
              0.4444444444444444,
              "#bd3786"
             ],
             [
              0.5555555555555556,
              "#d8576b"
             ],
             [
              0.6666666666666666,
              "#ed7953"
             ],
             [
              0.7777777777777778,
              "#fb9f3a"
             ],
             [
              0.8888888888888888,
              "#fdca26"
             ],
             [
              1,
              "#f0f921"
             ]
            ],
            "type": "histogram2dcontour"
           }
          ],
          "mesh3d": [
           {
            "colorbar": {
             "outlinewidth": 0,
             "ticks": ""
            },
            "type": "mesh3d"
           }
          ],
          "parcoords": [
           {
            "line": {
             "colorbar": {
              "outlinewidth": 0,
              "ticks": ""
             }
            },
            "type": "parcoords"
           }
          ],
          "pie": [
           {
            "automargin": true,
            "type": "pie"
           }
          ],
          "scatter": [
           {
            "fillpattern": {
             "fillmode": "overlay",
             "size": 10,
             "solidity": 0.2
            },
            "type": "scatter"
           }
          ],
          "scatter3d": [
           {
            "line": {
             "colorbar": {
              "outlinewidth": 0,
              "ticks": ""
             }
            },
            "marker": {
             "colorbar": {
              "outlinewidth": 0,
              "ticks": ""
             }
            },
            "type": "scatter3d"
           }
          ],
          "scattercarpet": [
           {
            "marker": {
             "colorbar": {
              "outlinewidth": 0,
              "ticks": ""
             }
            },
            "type": "scattercarpet"
           }
          ],
          "scattergeo": [
           {
            "marker": {
             "colorbar": {
              "outlinewidth": 0,
              "ticks": ""
             }
            },
            "type": "scattergeo"
           }
          ],
          "scattergl": [
           {
            "marker": {
             "colorbar": {
              "outlinewidth": 0,
              "ticks": ""
             }
            },
            "type": "scattergl"
           }
          ],
          "scattermapbox": [
           {
            "marker": {
             "colorbar": {
              "outlinewidth": 0,
              "ticks": ""
             }
            },
            "type": "scattermapbox"
           }
          ],
          "scatterpolar": [
           {
            "marker": {
             "colorbar": {
              "outlinewidth": 0,
              "ticks": ""
             }
            },
            "type": "scatterpolar"
           }
          ],
          "scatterpolargl": [
           {
            "marker": {
             "colorbar": {
              "outlinewidth": 0,
              "ticks": ""
             }
            },
            "type": "scatterpolargl"
           }
          ],
          "scatterternary": [
           {
            "marker": {
             "colorbar": {
              "outlinewidth": 0,
              "ticks": ""
             }
            },
            "type": "scatterternary"
           }
          ],
          "surface": [
           {
            "colorbar": {
             "outlinewidth": 0,
             "ticks": ""
            },
            "colorscale": [
             [
              0,
              "#0d0887"
             ],
             [
              0.1111111111111111,
              "#46039f"
             ],
             [
              0.2222222222222222,
              "#7201a8"
             ],
             [
              0.3333333333333333,
              "#9c179e"
             ],
             [
              0.4444444444444444,
              "#bd3786"
             ],
             [
              0.5555555555555556,
              "#d8576b"
             ],
             [
              0.6666666666666666,
              "#ed7953"
             ],
             [
              0.7777777777777778,
              "#fb9f3a"
             ],
             [
              0.8888888888888888,
              "#fdca26"
             ],
             [
              1,
              "#f0f921"
             ]
            ],
            "type": "surface"
           }
          ],
          "table": [
           {
            "cells": {
             "fill": {
              "color": "#EBF0F8"
             },
             "line": {
              "color": "white"
             }
            },
            "header": {
             "fill": {
              "color": "#C8D4E3"
             },
             "line": {
              "color": "white"
             }
            },
            "type": "table"
           }
          ]
         },
         "layout": {
          "annotationdefaults": {
           "arrowcolor": "#2a3f5f",
           "arrowhead": 0,
           "arrowwidth": 1
          },
          "autotypenumbers": "strict",
          "coloraxis": {
           "colorbar": {
            "outlinewidth": 0,
            "ticks": ""
           }
          },
          "colorscale": {
           "diverging": [
            [
             0,
             "#8e0152"
            ],
            [
             0.1,
             "#c51b7d"
            ],
            [
             0.2,
             "#de77ae"
            ],
            [
             0.3,
             "#f1b6da"
            ],
            [
             0.4,
             "#fde0ef"
            ],
            [
             0.5,
             "#f7f7f7"
            ],
            [
             0.6,
             "#e6f5d0"
            ],
            [
             0.7,
             "#b8e186"
            ],
            [
             0.8,
             "#7fbc41"
            ],
            [
             0.9,
             "#4d9221"
            ],
            [
             1,
             "#276419"
            ]
           ],
           "sequential": [
            [
             0,
             "#0d0887"
            ],
            [
             0.1111111111111111,
             "#46039f"
            ],
            [
             0.2222222222222222,
             "#7201a8"
            ],
            [
             0.3333333333333333,
             "#9c179e"
            ],
            [
             0.4444444444444444,
             "#bd3786"
            ],
            [
             0.5555555555555556,
             "#d8576b"
            ],
            [
             0.6666666666666666,
             "#ed7953"
            ],
            [
             0.7777777777777778,
             "#fb9f3a"
            ],
            [
             0.8888888888888888,
             "#fdca26"
            ],
            [
             1,
             "#f0f921"
            ]
           ],
           "sequentialminus": [
            [
             0,
             "#0d0887"
            ],
            [
             0.1111111111111111,
             "#46039f"
            ],
            [
             0.2222222222222222,
             "#7201a8"
            ],
            [
             0.3333333333333333,
             "#9c179e"
            ],
            [
             0.4444444444444444,
             "#bd3786"
            ],
            [
             0.5555555555555556,
             "#d8576b"
            ],
            [
             0.6666666666666666,
             "#ed7953"
            ],
            [
             0.7777777777777778,
             "#fb9f3a"
            ],
            [
             0.8888888888888888,
             "#fdca26"
            ],
            [
             1,
             "#f0f921"
            ]
           ]
          },
          "colorway": [
           "#636efa",
           "#EF553B",
           "#00cc96",
           "#ab63fa",
           "#FFA15A",
           "#19d3f3",
           "#FF6692",
           "#B6E880",
           "#FF97FF",
           "#FECB52"
          ],
          "font": {
           "color": "#2a3f5f"
          },
          "geo": {
           "bgcolor": "white",
           "lakecolor": "white",
           "landcolor": "#E5ECF6",
           "showlakes": true,
           "showland": true,
           "subunitcolor": "white"
          },
          "hoverlabel": {
           "align": "left"
          },
          "hovermode": "closest",
          "mapbox": {
           "style": "light"
          },
          "paper_bgcolor": "white",
          "plot_bgcolor": "#E5ECF6",
          "polar": {
           "angularaxis": {
            "gridcolor": "white",
            "linecolor": "white",
            "ticks": ""
           },
           "bgcolor": "#E5ECF6",
           "radialaxis": {
            "gridcolor": "white",
            "linecolor": "white",
            "ticks": ""
           }
          },
          "scene": {
           "xaxis": {
            "backgroundcolor": "#E5ECF6",
            "gridcolor": "white",
            "gridwidth": 2,
            "linecolor": "white",
            "showbackground": true,
            "ticks": "",
            "zerolinecolor": "white"
           },
           "yaxis": {
            "backgroundcolor": "#E5ECF6",
            "gridcolor": "white",
            "gridwidth": 2,
            "linecolor": "white",
            "showbackground": true,
            "ticks": "",
            "zerolinecolor": "white"
           },
           "zaxis": {
            "backgroundcolor": "#E5ECF6",
            "gridcolor": "white",
            "gridwidth": 2,
            "linecolor": "white",
            "showbackground": true,
            "ticks": "",
            "zerolinecolor": "white"
           }
          },
          "shapedefaults": {
           "line": {
            "color": "#2a3f5f"
           }
          },
          "ternary": {
           "aaxis": {
            "gridcolor": "white",
            "linecolor": "white",
            "ticks": ""
           },
           "baxis": {
            "gridcolor": "white",
            "linecolor": "white",
            "ticks": ""
           },
           "bgcolor": "#E5ECF6",
           "caxis": {
            "gridcolor": "white",
            "linecolor": "white",
            "ticks": ""
           }
          },
          "title": {
           "x": 0.05
          },
          "xaxis": {
           "automargin": true,
           "gridcolor": "white",
           "linecolor": "white",
           "ticks": "",
           "title": {
            "standoff": 15
           },
           "zerolinecolor": "white",
           "zerolinewidth": 2
          },
          "yaxis": {
           "automargin": true,
           "gridcolor": "white",
           "linecolor": "white",
           "ticks": "",
           "title": {
            "standoff": 15
           },
           "zerolinecolor": "white",
           "zerolinewidth": 2
          }
         }
        },
        "title": {
         "text": "Gráfico de Burbujas: Quintil Socioeconómico vs Promedio de Nota de Evaluación"
        },
        "xaxis": {
         "anchor": "y",
         "domain": [
          0,
          1
         ],
         "title": {
          "text": "Quintil socioeconómico"
         }
        },
        "yaxis": {
         "anchor": "x",
         "domain": [
          0,
          1
         ],
         "title": {
          "text": "Promedio de Nota Ser Bachiller"
         }
        }
       }
      }
     },
     "metadata": {},
     "output_type": "display_data"
    }
   ],
   "source": [
    "import plotly.express as px\n",
    "\n",
    "# Crear un gráfico de burbujas\n",
    "fig = px.scatter(df_agg, x='quintil', y='nota_inev',\n",
    "                 size='codigo', size_max=60,\n",
    "                 text='codigo',  # Añadir el número de alumnos como texto en las burbujas\n",
    "                 title='Gráfico de Burbujas: Quintil Socioeconómico vs Promedio de Nota de Evaluación',\n",
    "                 labels={'nota_inev': 'Promedio de Nota Ser Bachiller',\n",
    "                         'quintil': 'Quintil socioeconómico',\n",
    "                         'codigo': 'Número de Alumnos'})\n",
    "\n",
    "# Actualizar la apariencia de las etiquetas\n",
    "fig.update_traces(textposition='middle center')\n",
    "\n",
    "# Mostrar el gráfico\n",
    "fig.show()"
   ]
  },
  {
   "cell_type": "markdown",
   "metadata": {},
   "source": [
    "# Factores Asociados"
   ]
  },
  {
   "cell_type": "code",
   "execution_count": null,
   "metadata": {},
   "outputs": [],
   "source": []
  }
 ],
 "metadata": {
  "kernelspec": {
   "display_name": "Python 3",
   "language": "python",
   "name": "python3"
  },
  "language_info": {
   "codemirror_mode": {
    "name": "ipython",
    "version": 3
   },
   "file_extension": ".py",
   "mimetype": "text/x-python",
   "name": "python",
   "nbconvert_exporter": "python",
   "pygments_lexer": "ipython3",
   "version": "3.12.3"
  }
 },
 "nbformat": 4,
 "nbformat_minor": 2
}
